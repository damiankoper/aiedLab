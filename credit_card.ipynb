{
 "cells": [
  {
   "cell_type": "markdown",
   "metadata": {},
   "source": [
    "# AIED - Uczenie maszynowe\n",
    "\n",
    "Fraud detection - transakcje bankowe\n",
    "\n",
    "Dla zbioru danych `creditcard.csv` nie udało się zapewnić stopy błędów FPR na poziomie poniżej 0.5% w żadnym przypadku analizy. Zamiast tego analiza skupiała się na jej minimalizowaniu i jednoczesnym utrzymywaniu stopy błędów FNR na jak najniższym poziomie.\n",
    "\n",
    "## Dane wejściowe - wczytanie i analiza\n"
   ]
  },
  {
   "cell_type": "code",
   "execution_count": 14,
   "metadata": {},
   "outputs": [],
   "source": [
    "import pandas as pd\n",
    "\n",
    "dataframe = pd.read_csv(\"./data/creditcard.csv\")\n"
   ]
  },
  {
   "cell_type": "markdown",
   "metadata": {},
   "source": [
    "### Rozmiar danych wejściowych i podstawowe statystyki\n"
   ]
  },
  {
   "cell_type": "code",
   "execution_count": 15,
   "metadata": {},
   "outputs": [
    {
     "data": {
      "text/plain": [
       "(284807, 31)"
      ]
     },
     "execution_count": 15,
     "metadata": {},
     "output_type": "execute_result"
    }
   ],
   "source": [
    "dataframe.shape\n"
   ]
  },
  {
   "cell_type": "code",
   "execution_count": 16,
   "metadata": {},
   "outputs": [
    {
     "data": {
      "text/html": [
       "<div>\n",
       "<style scoped>\n",
       "    .dataframe tbody tr th:only-of-type {\n",
       "        vertical-align: middle;\n",
       "    }\n",
       "\n",
       "    .dataframe tbody tr th {\n",
       "        vertical-align: top;\n",
       "    }\n",
       "\n",
       "    .dataframe thead th {\n",
       "        text-align: right;\n",
       "    }\n",
       "</style>\n",
       "<table border=\"1\" class=\"dataframe\">\n",
       "  <thead>\n",
       "    <tr style=\"text-align: right;\">\n",
       "      <th></th>\n",
       "      <th>Time</th>\n",
       "      <th>V1</th>\n",
       "      <th>V2</th>\n",
       "      <th>V3</th>\n",
       "      <th>V4</th>\n",
       "      <th>V5</th>\n",
       "      <th>V6</th>\n",
       "      <th>V7</th>\n",
       "      <th>V8</th>\n",
       "      <th>V9</th>\n",
       "      <th>...</th>\n",
       "      <th>V21</th>\n",
       "      <th>V22</th>\n",
       "      <th>V23</th>\n",
       "      <th>V24</th>\n",
       "      <th>V25</th>\n",
       "      <th>V26</th>\n",
       "      <th>V27</th>\n",
       "      <th>V28</th>\n",
       "      <th>Amount</th>\n",
       "      <th>Class</th>\n",
       "    </tr>\n",
       "  </thead>\n",
       "  <tbody>\n",
       "    <tr>\n",
       "      <th>count</th>\n",
       "      <td>284807.000000</td>\n",
       "      <td>2.848070e+05</td>\n",
       "      <td>2.848070e+05</td>\n",
       "      <td>2.848070e+05</td>\n",
       "      <td>2.848070e+05</td>\n",
       "      <td>2.848070e+05</td>\n",
       "      <td>2.848070e+05</td>\n",
       "      <td>2.848070e+05</td>\n",
       "      <td>2.848070e+05</td>\n",
       "      <td>2.848070e+05</td>\n",
       "      <td>...</td>\n",
       "      <td>2.848070e+05</td>\n",
       "      <td>2.848070e+05</td>\n",
       "      <td>2.848070e+05</td>\n",
       "      <td>2.848070e+05</td>\n",
       "      <td>2.848070e+05</td>\n",
       "      <td>2.848070e+05</td>\n",
       "      <td>2.848070e+05</td>\n",
       "      <td>2.848070e+05</td>\n",
       "      <td>284807.000000</td>\n",
       "      <td>284807.000000</td>\n",
       "    </tr>\n",
       "    <tr>\n",
       "      <th>mean</th>\n",
       "      <td>94813.859575</td>\n",
       "      <td>1.168375e-15</td>\n",
       "      <td>3.416908e-16</td>\n",
       "      <td>-1.379537e-15</td>\n",
       "      <td>2.074095e-15</td>\n",
       "      <td>9.604066e-16</td>\n",
       "      <td>1.487313e-15</td>\n",
       "      <td>-5.556467e-16</td>\n",
       "      <td>1.213481e-16</td>\n",
       "      <td>-2.406331e-15</td>\n",
       "      <td>...</td>\n",
       "      <td>1.654067e-16</td>\n",
       "      <td>-3.568593e-16</td>\n",
       "      <td>2.578648e-16</td>\n",
       "      <td>4.473266e-15</td>\n",
       "      <td>5.340915e-16</td>\n",
       "      <td>1.683437e-15</td>\n",
       "      <td>-3.660091e-16</td>\n",
       "      <td>-1.227390e-16</td>\n",
       "      <td>88.349619</td>\n",
       "      <td>0.001727</td>\n",
       "    </tr>\n",
       "    <tr>\n",
       "      <th>std</th>\n",
       "      <td>47488.145955</td>\n",
       "      <td>1.958696e+00</td>\n",
       "      <td>1.651309e+00</td>\n",
       "      <td>1.516255e+00</td>\n",
       "      <td>1.415869e+00</td>\n",
       "      <td>1.380247e+00</td>\n",
       "      <td>1.332271e+00</td>\n",
       "      <td>1.237094e+00</td>\n",
       "      <td>1.194353e+00</td>\n",
       "      <td>1.098632e+00</td>\n",
       "      <td>...</td>\n",
       "      <td>7.345240e-01</td>\n",
       "      <td>7.257016e-01</td>\n",
       "      <td>6.244603e-01</td>\n",
       "      <td>6.056471e-01</td>\n",
       "      <td>5.212781e-01</td>\n",
       "      <td>4.822270e-01</td>\n",
       "      <td>4.036325e-01</td>\n",
       "      <td>3.300833e-01</td>\n",
       "      <td>250.120109</td>\n",
       "      <td>0.041527</td>\n",
       "    </tr>\n",
       "    <tr>\n",
       "      <th>min</th>\n",
       "      <td>0.000000</td>\n",
       "      <td>-5.640751e+01</td>\n",
       "      <td>-7.271573e+01</td>\n",
       "      <td>-4.832559e+01</td>\n",
       "      <td>-5.683171e+00</td>\n",
       "      <td>-1.137433e+02</td>\n",
       "      <td>-2.616051e+01</td>\n",
       "      <td>-4.355724e+01</td>\n",
       "      <td>-7.321672e+01</td>\n",
       "      <td>-1.343407e+01</td>\n",
       "      <td>...</td>\n",
       "      <td>-3.483038e+01</td>\n",
       "      <td>-1.093314e+01</td>\n",
       "      <td>-4.480774e+01</td>\n",
       "      <td>-2.836627e+00</td>\n",
       "      <td>-1.029540e+01</td>\n",
       "      <td>-2.604551e+00</td>\n",
       "      <td>-2.256568e+01</td>\n",
       "      <td>-1.543008e+01</td>\n",
       "      <td>0.000000</td>\n",
       "      <td>0.000000</td>\n",
       "    </tr>\n",
       "    <tr>\n",
       "      <th>25%</th>\n",
       "      <td>54201.500000</td>\n",
       "      <td>-9.203734e-01</td>\n",
       "      <td>-5.985499e-01</td>\n",
       "      <td>-8.903648e-01</td>\n",
       "      <td>-8.486401e-01</td>\n",
       "      <td>-6.915971e-01</td>\n",
       "      <td>-7.682956e-01</td>\n",
       "      <td>-5.540759e-01</td>\n",
       "      <td>-2.086297e-01</td>\n",
       "      <td>-6.430976e-01</td>\n",
       "      <td>...</td>\n",
       "      <td>-2.283949e-01</td>\n",
       "      <td>-5.423504e-01</td>\n",
       "      <td>-1.618463e-01</td>\n",
       "      <td>-3.545861e-01</td>\n",
       "      <td>-3.171451e-01</td>\n",
       "      <td>-3.269839e-01</td>\n",
       "      <td>-7.083953e-02</td>\n",
       "      <td>-5.295979e-02</td>\n",
       "      <td>5.600000</td>\n",
       "      <td>0.000000</td>\n",
       "    </tr>\n",
       "    <tr>\n",
       "      <th>50%</th>\n",
       "      <td>84692.000000</td>\n",
       "      <td>1.810880e-02</td>\n",
       "      <td>6.548556e-02</td>\n",
       "      <td>1.798463e-01</td>\n",
       "      <td>-1.984653e-02</td>\n",
       "      <td>-5.433583e-02</td>\n",
       "      <td>-2.741871e-01</td>\n",
       "      <td>4.010308e-02</td>\n",
       "      <td>2.235804e-02</td>\n",
       "      <td>-5.142873e-02</td>\n",
       "      <td>...</td>\n",
       "      <td>-2.945017e-02</td>\n",
       "      <td>6.781943e-03</td>\n",
       "      <td>-1.119293e-02</td>\n",
       "      <td>4.097606e-02</td>\n",
       "      <td>1.659350e-02</td>\n",
       "      <td>-5.213911e-02</td>\n",
       "      <td>1.342146e-03</td>\n",
       "      <td>1.124383e-02</td>\n",
       "      <td>22.000000</td>\n",
       "      <td>0.000000</td>\n",
       "    </tr>\n",
       "    <tr>\n",
       "      <th>75%</th>\n",
       "      <td>139320.500000</td>\n",
       "      <td>1.315642e+00</td>\n",
       "      <td>8.037239e-01</td>\n",
       "      <td>1.027196e+00</td>\n",
       "      <td>7.433413e-01</td>\n",
       "      <td>6.119264e-01</td>\n",
       "      <td>3.985649e-01</td>\n",
       "      <td>5.704361e-01</td>\n",
       "      <td>3.273459e-01</td>\n",
       "      <td>5.971390e-01</td>\n",
       "      <td>...</td>\n",
       "      <td>1.863772e-01</td>\n",
       "      <td>5.285536e-01</td>\n",
       "      <td>1.476421e-01</td>\n",
       "      <td>4.395266e-01</td>\n",
       "      <td>3.507156e-01</td>\n",
       "      <td>2.409522e-01</td>\n",
       "      <td>9.104512e-02</td>\n",
       "      <td>7.827995e-02</td>\n",
       "      <td>77.165000</td>\n",
       "      <td>0.000000</td>\n",
       "    </tr>\n",
       "    <tr>\n",
       "      <th>max</th>\n",
       "      <td>172792.000000</td>\n",
       "      <td>2.454930e+00</td>\n",
       "      <td>2.205773e+01</td>\n",
       "      <td>9.382558e+00</td>\n",
       "      <td>1.687534e+01</td>\n",
       "      <td>3.480167e+01</td>\n",
       "      <td>7.330163e+01</td>\n",
       "      <td>1.205895e+02</td>\n",
       "      <td>2.000721e+01</td>\n",
       "      <td>1.559499e+01</td>\n",
       "      <td>...</td>\n",
       "      <td>2.720284e+01</td>\n",
       "      <td>1.050309e+01</td>\n",
       "      <td>2.252841e+01</td>\n",
       "      <td>4.584549e+00</td>\n",
       "      <td>7.519589e+00</td>\n",
       "      <td>3.517346e+00</td>\n",
       "      <td>3.161220e+01</td>\n",
       "      <td>3.384781e+01</td>\n",
       "      <td>25691.160000</td>\n",
       "      <td>1.000000</td>\n",
       "    </tr>\n",
       "  </tbody>\n",
       "</table>\n",
       "<p>8 rows × 31 columns</p>\n",
       "</div>"
      ],
      "text/plain": [
       "                Time            V1            V2            V3            V4  \\\n",
       "count  284807.000000  2.848070e+05  2.848070e+05  2.848070e+05  2.848070e+05   \n",
       "mean    94813.859575  1.168375e-15  3.416908e-16 -1.379537e-15  2.074095e-15   \n",
       "std     47488.145955  1.958696e+00  1.651309e+00  1.516255e+00  1.415869e+00   \n",
       "min         0.000000 -5.640751e+01 -7.271573e+01 -4.832559e+01 -5.683171e+00   \n",
       "25%     54201.500000 -9.203734e-01 -5.985499e-01 -8.903648e-01 -8.486401e-01   \n",
       "50%     84692.000000  1.810880e-02  6.548556e-02  1.798463e-01 -1.984653e-02   \n",
       "75%    139320.500000  1.315642e+00  8.037239e-01  1.027196e+00  7.433413e-01   \n",
       "max    172792.000000  2.454930e+00  2.205773e+01  9.382558e+00  1.687534e+01   \n",
       "\n",
       "                 V5            V6            V7            V8            V9  \\\n",
       "count  2.848070e+05  2.848070e+05  2.848070e+05  2.848070e+05  2.848070e+05   \n",
       "mean   9.604066e-16  1.487313e-15 -5.556467e-16  1.213481e-16 -2.406331e-15   \n",
       "std    1.380247e+00  1.332271e+00  1.237094e+00  1.194353e+00  1.098632e+00   \n",
       "min   -1.137433e+02 -2.616051e+01 -4.355724e+01 -7.321672e+01 -1.343407e+01   \n",
       "25%   -6.915971e-01 -7.682956e-01 -5.540759e-01 -2.086297e-01 -6.430976e-01   \n",
       "50%   -5.433583e-02 -2.741871e-01  4.010308e-02  2.235804e-02 -5.142873e-02   \n",
       "75%    6.119264e-01  3.985649e-01  5.704361e-01  3.273459e-01  5.971390e-01   \n",
       "max    3.480167e+01  7.330163e+01  1.205895e+02  2.000721e+01  1.559499e+01   \n",
       "\n",
       "       ...           V21           V22           V23           V24  \\\n",
       "count  ...  2.848070e+05  2.848070e+05  2.848070e+05  2.848070e+05   \n",
       "mean   ...  1.654067e-16 -3.568593e-16  2.578648e-16  4.473266e-15   \n",
       "std    ...  7.345240e-01  7.257016e-01  6.244603e-01  6.056471e-01   \n",
       "min    ... -3.483038e+01 -1.093314e+01 -4.480774e+01 -2.836627e+00   \n",
       "25%    ... -2.283949e-01 -5.423504e-01 -1.618463e-01 -3.545861e-01   \n",
       "50%    ... -2.945017e-02  6.781943e-03 -1.119293e-02  4.097606e-02   \n",
       "75%    ...  1.863772e-01  5.285536e-01  1.476421e-01  4.395266e-01   \n",
       "max    ...  2.720284e+01  1.050309e+01  2.252841e+01  4.584549e+00   \n",
       "\n",
       "                V25           V26           V27           V28         Amount  \\\n",
       "count  2.848070e+05  2.848070e+05  2.848070e+05  2.848070e+05  284807.000000   \n",
       "mean   5.340915e-16  1.683437e-15 -3.660091e-16 -1.227390e-16      88.349619   \n",
       "std    5.212781e-01  4.822270e-01  4.036325e-01  3.300833e-01     250.120109   \n",
       "min   -1.029540e+01 -2.604551e+00 -2.256568e+01 -1.543008e+01       0.000000   \n",
       "25%   -3.171451e-01 -3.269839e-01 -7.083953e-02 -5.295979e-02       5.600000   \n",
       "50%    1.659350e-02 -5.213911e-02  1.342146e-03  1.124383e-02      22.000000   \n",
       "75%    3.507156e-01  2.409522e-01  9.104512e-02  7.827995e-02      77.165000   \n",
       "max    7.519589e+00  3.517346e+00  3.161220e+01  3.384781e+01   25691.160000   \n",
       "\n",
       "               Class  \n",
       "count  284807.000000  \n",
       "mean        0.001727  \n",
       "std         0.041527  \n",
       "min         0.000000  \n",
       "25%         0.000000  \n",
       "50%         0.000000  \n",
       "75%         0.000000  \n",
       "max         1.000000  \n",
       "\n",
       "[8 rows x 31 columns]"
      ]
     },
     "execution_count": 16,
     "metadata": {},
     "output_type": "execute_result"
    }
   ],
   "source": [
    "dataframe.describe()\n"
   ]
  },
  {
   "cell_type": "code",
   "execution_count": 17,
   "metadata": {},
   "outputs": [
    {
     "data": {
      "text/plain": [
       "0    284315\n",
       "1       492\n",
       "Name: Class, dtype: int64"
      ]
     },
     "execution_count": 17,
     "metadata": {},
     "output_type": "execute_result"
    }
   ],
   "source": [
    "dataframe['Class'].value_counts()\n"
   ]
  },
  {
   "cell_type": "markdown",
   "metadata": {},
   "source": [
    "### Standaryzacja danych\n",
    "\n",
    "Usunięcie średniej i normalizacja odchylenia standardowego. Kolumny klasy i czasu nie są standaryzowane."
   ]
  },
  {
   "cell_type": "code",
   "execution_count": 18,
   "metadata": {},
   "outputs": [
    {
     "name": "stdout",
     "output_type": "stream",
     "text": [
      "std: 1.000000058519166\n",
      "mean: -4.657000846487342e-19\n"
     ]
    },
    {
     "data": {
      "text/html": [
       "<div>\n",
       "<style scoped>\n",
       "    .dataframe tbody tr th:only-of-type {\n",
       "        vertical-align: middle;\n",
       "    }\n",
       "\n",
       "    .dataframe tbody tr th {\n",
       "        vertical-align: top;\n",
       "    }\n",
       "\n",
       "    .dataframe thead th {\n",
       "        text-align: right;\n",
       "    }\n",
       "</style>\n",
       "<table border=\"1\" class=\"dataframe\">\n",
       "  <thead>\n",
       "    <tr style=\"text-align: right;\">\n",
       "      <th></th>\n",
       "      <th>Time</th>\n",
       "      <th>V1</th>\n",
       "      <th>V2</th>\n",
       "      <th>V3</th>\n",
       "      <th>V4</th>\n",
       "      <th>V5</th>\n",
       "      <th>V6</th>\n",
       "      <th>V7</th>\n",
       "      <th>V8</th>\n",
       "      <th>V9</th>\n",
       "      <th>...</th>\n",
       "      <th>V21</th>\n",
       "      <th>V22</th>\n",
       "      <th>V23</th>\n",
       "      <th>V24</th>\n",
       "      <th>V25</th>\n",
       "      <th>V26</th>\n",
       "      <th>V27</th>\n",
       "      <th>V28</th>\n",
       "      <th>Amount</th>\n",
       "      <th>Class</th>\n",
       "    </tr>\n",
       "  </thead>\n",
       "  <tbody>\n",
       "    <tr>\n",
       "      <th>0</th>\n",
       "      <td>-1.996583</td>\n",
       "      <td>-0.694242</td>\n",
       "      <td>-0.044075</td>\n",
       "      <td>1.672773</td>\n",
       "      <td>0.973366</td>\n",
       "      <td>-0.245117</td>\n",
       "      <td>0.347068</td>\n",
       "      <td>0.193679</td>\n",
       "      <td>0.082637</td>\n",
       "      <td>0.331128</td>\n",
       "      <td>...</td>\n",
       "      <td>-0.024923</td>\n",
       "      <td>0.382854</td>\n",
       "      <td>-0.176911</td>\n",
       "      <td>0.110507</td>\n",
       "      <td>0.246585</td>\n",
       "      <td>-0.392170</td>\n",
       "      <td>0.330892</td>\n",
       "      <td>-0.063781</td>\n",
       "      <td>0.244964</td>\n",
       "      <td>0</td>\n",
       "    </tr>\n",
       "    <tr>\n",
       "      <th>1</th>\n",
       "      <td>-1.996583</td>\n",
       "      <td>0.608496</td>\n",
       "      <td>0.161176</td>\n",
       "      <td>0.109797</td>\n",
       "      <td>0.316523</td>\n",
       "      <td>0.043483</td>\n",
       "      <td>-0.061820</td>\n",
       "      <td>-0.063700</td>\n",
       "      <td>0.071253</td>\n",
       "      <td>-0.232494</td>\n",
       "      <td>...</td>\n",
       "      <td>-0.307377</td>\n",
       "      <td>-0.880077</td>\n",
       "      <td>0.162201</td>\n",
       "      <td>-0.561131</td>\n",
       "      <td>0.320694</td>\n",
       "      <td>0.261069</td>\n",
       "      <td>-0.022256</td>\n",
       "      <td>0.044608</td>\n",
       "      <td>-0.342475</td>\n",
       "      <td>0</td>\n",
       "    </tr>\n",
       "    <tr>\n",
       "      <th>2</th>\n",
       "      <td>-1.996562</td>\n",
       "      <td>-0.693500</td>\n",
       "      <td>-0.811578</td>\n",
       "      <td>1.169468</td>\n",
       "      <td>0.268231</td>\n",
       "      <td>-0.364572</td>\n",
       "      <td>1.351454</td>\n",
       "      <td>0.639776</td>\n",
       "      <td>0.207373</td>\n",
       "      <td>-1.378675</td>\n",
       "      <td>...</td>\n",
       "      <td>0.337632</td>\n",
       "      <td>1.063358</td>\n",
       "      <td>1.456320</td>\n",
       "      <td>-1.138092</td>\n",
       "      <td>-0.628537</td>\n",
       "      <td>-0.288447</td>\n",
       "      <td>-0.137137</td>\n",
       "      <td>-0.181021</td>\n",
       "      <td>1.160686</td>\n",
       "      <td>0</td>\n",
       "    </tr>\n",
       "    <tr>\n",
       "      <th>3</th>\n",
       "      <td>-1.996562</td>\n",
       "      <td>-0.493325</td>\n",
       "      <td>-0.112169</td>\n",
       "      <td>1.182516</td>\n",
       "      <td>-0.609727</td>\n",
       "      <td>-0.007469</td>\n",
       "      <td>0.936150</td>\n",
       "      <td>0.192071</td>\n",
       "      <td>0.316018</td>\n",
       "      <td>-1.262503</td>\n",
       "      <td>...</td>\n",
       "      <td>-0.147443</td>\n",
       "      <td>0.007267</td>\n",
       "      <td>-0.304777</td>\n",
       "      <td>-1.941027</td>\n",
       "      <td>1.241904</td>\n",
       "      <td>-0.460217</td>\n",
       "      <td>0.155396</td>\n",
       "      <td>0.186189</td>\n",
       "      <td>0.140534</td>\n",
       "      <td>0</td>\n",
       "    </tr>\n",
       "    <tr>\n",
       "      <th>4</th>\n",
       "      <td>-1.996541</td>\n",
       "      <td>-0.591330</td>\n",
       "      <td>0.531541</td>\n",
       "      <td>1.021412</td>\n",
       "      <td>0.284655</td>\n",
       "      <td>-0.295015</td>\n",
       "      <td>0.071999</td>\n",
       "      <td>0.479302</td>\n",
       "      <td>-0.226510</td>\n",
       "      <td>0.744326</td>\n",
       "      <td>...</td>\n",
       "      <td>-0.012839</td>\n",
       "      <td>1.100011</td>\n",
       "      <td>-0.220123</td>\n",
       "      <td>0.233250</td>\n",
       "      <td>-0.395202</td>\n",
       "      <td>1.041611</td>\n",
       "      <td>0.543620</td>\n",
       "      <td>0.651816</td>\n",
       "      <td>-0.073403</td>\n",
       "      <td>0</td>\n",
       "    </tr>\n",
       "    <tr>\n",
       "      <th>...</th>\n",
       "      <td>...</td>\n",
       "      <td>...</td>\n",
       "      <td>...</td>\n",
       "      <td>...</td>\n",
       "      <td>...</td>\n",
       "      <td>...</td>\n",
       "      <td>...</td>\n",
       "      <td>...</td>\n",
       "      <td>...</td>\n",
       "      <td>...</td>\n",
       "      <td>...</td>\n",
       "      <td>...</td>\n",
       "      <td>...</td>\n",
       "      <td>...</td>\n",
       "      <td>...</td>\n",
       "      <td>...</td>\n",
       "      <td>...</td>\n",
       "      <td>...</td>\n",
       "      <td>...</td>\n",
       "      <td>...</td>\n",
       "      <td>...</td>\n",
       "    </tr>\n",
       "    <tr>\n",
       "      <th>284802</th>\n",
       "      <td>1.641931</td>\n",
       "      <td>-6.065842</td>\n",
       "      <td>6.099286</td>\n",
       "      <td>-6.486245</td>\n",
       "      <td>-1.459641</td>\n",
       "      <td>-3.886611</td>\n",
       "      <td>-1.956690</td>\n",
       "      <td>-3.975628</td>\n",
       "      <td>6.116573</td>\n",
       "      <td>1.742559</td>\n",
       "      <td>...</td>\n",
       "      <td>0.290602</td>\n",
       "      <td>0.154146</td>\n",
       "      <td>1.624574</td>\n",
       "      <td>-0.841000</td>\n",
       "      <td>2.756320</td>\n",
       "      <td>0.518500</td>\n",
       "      <td>2.337901</td>\n",
       "      <td>2.495529</td>\n",
       "      <td>-0.350151</td>\n",
       "      <td>0</td>\n",
       "    </tr>\n",
       "    <tr>\n",
       "      <th>284803</th>\n",
       "      <td>1.641952</td>\n",
       "      <td>-0.374121</td>\n",
       "      <td>-0.033356</td>\n",
       "      <td>1.342145</td>\n",
       "      <td>-0.521651</td>\n",
       "      <td>0.629040</td>\n",
       "      <td>0.794446</td>\n",
       "      <td>0.019667</td>\n",
       "      <td>0.246886</td>\n",
       "      <td>0.532299</td>\n",
       "      <td>...</td>\n",
       "      <td>0.291625</td>\n",
       "      <td>1.273781</td>\n",
       "      <td>0.019958</td>\n",
       "      <td>-1.677920</td>\n",
       "      <td>-1.163726</td>\n",
       "      <td>-0.819647</td>\n",
       "      <td>0.169641</td>\n",
       "      <td>-0.162164</td>\n",
       "      <td>-0.254117</td>\n",
       "      <td>0</td>\n",
       "    </tr>\n",
       "    <tr>\n",
       "      <th>284804</th>\n",
       "      <td>1.641974</td>\n",
       "      <td>0.980024</td>\n",
       "      <td>-0.182434</td>\n",
       "      <td>-2.143205</td>\n",
       "      <td>-0.393984</td>\n",
       "      <td>1.905833</td>\n",
       "      <td>2.275262</td>\n",
       "      <td>-0.239939</td>\n",
       "      <td>0.593140</td>\n",
       "      <td>0.393630</td>\n",
       "      <td>...</td>\n",
       "      <td>0.315913</td>\n",
       "      <td>0.796788</td>\n",
       "      <td>-0.060053</td>\n",
       "      <td>1.056944</td>\n",
       "      <td>0.509797</td>\n",
       "      <td>-0.181182</td>\n",
       "      <td>0.011037</td>\n",
       "      <td>-0.080467</td>\n",
       "      <td>-0.081839</td>\n",
       "      <td>0</td>\n",
       "    </tr>\n",
       "    <tr>\n",
       "      <th>284805</th>\n",
       "      <td>1.641974</td>\n",
       "      <td>-0.122755</td>\n",
       "      <td>0.321250</td>\n",
       "      <td>0.463320</td>\n",
       "      <td>0.487192</td>\n",
       "      <td>-0.273836</td>\n",
       "      <td>0.468155</td>\n",
       "      <td>-0.554672</td>\n",
       "      <td>0.568631</td>\n",
       "      <td>0.356887</td>\n",
       "      <td>...</td>\n",
       "      <td>0.361112</td>\n",
       "      <td>1.102451</td>\n",
       "      <td>-0.261503</td>\n",
       "      <td>0.203428</td>\n",
       "      <td>-1.091855</td>\n",
       "      <td>1.133635</td>\n",
       "      <td>0.269604</td>\n",
       "      <td>0.316687</td>\n",
       "      <td>-0.313249</td>\n",
       "      <td>0</td>\n",
       "    </tr>\n",
       "    <tr>\n",
       "      <th>284806</th>\n",
       "      <td>1.642058</td>\n",
       "      <td>-0.272331</td>\n",
       "      <td>-0.114899</td>\n",
       "      <td>0.463866</td>\n",
       "      <td>-0.357570</td>\n",
       "      <td>-0.009089</td>\n",
       "      <td>-0.487602</td>\n",
       "      <td>1.274769</td>\n",
       "      <td>-0.347176</td>\n",
       "      <td>0.442532</td>\n",
       "      <td>...</td>\n",
       "      <td>0.355411</td>\n",
       "      <td>0.886149</td>\n",
       "      <td>0.603365</td>\n",
       "      <td>0.014526</td>\n",
       "      <td>-0.908631</td>\n",
       "      <td>-1.696853</td>\n",
       "      <td>-0.005984</td>\n",
       "      <td>0.041350</td>\n",
       "      <td>0.514355</td>\n",
       "      <td>0</td>\n",
       "    </tr>\n",
       "  </tbody>\n",
       "</table>\n",
       "<p>284807 rows × 31 columns</p>\n",
       "</div>"
      ],
      "text/plain": [
       "            Time        V1        V2        V3        V4        V5        V6  \\\n",
       "0      -1.996583 -0.694242 -0.044075  1.672773  0.973366 -0.245117  0.347068   \n",
       "1      -1.996583  0.608496  0.161176  0.109797  0.316523  0.043483 -0.061820   \n",
       "2      -1.996562 -0.693500 -0.811578  1.169468  0.268231 -0.364572  1.351454   \n",
       "3      -1.996562 -0.493325 -0.112169  1.182516 -0.609727 -0.007469  0.936150   \n",
       "4      -1.996541 -0.591330  0.531541  1.021412  0.284655 -0.295015  0.071999   \n",
       "...          ...       ...       ...       ...       ...       ...       ...   \n",
       "284802  1.641931 -6.065842  6.099286 -6.486245 -1.459641 -3.886611 -1.956690   \n",
       "284803  1.641952 -0.374121 -0.033356  1.342145 -0.521651  0.629040  0.794446   \n",
       "284804  1.641974  0.980024 -0.182434 -2.143205 -0.393984  1.905833  2.275262   \n",
       "284805  1.641974 -0.122755  0.321250  0.463320  0.487192 -0.273836  0.468155   \n",
       "284806  1.642058 -0.272331 -0.114899  0.463866 -0.357570 -0.009089 -0.487602   \n",
       "\n",
       "              V7        V8        V9  ...       V21       V22       V23  \\\n",
       "0       0.193679  0.082637  0.331128  ... -0.024923  0.382854 -0.176911   \n",
       "1      -0.063700  0.071253 -0.232494  ... -0.307377 -0.880077  0.162201   \n",
       "2       0.639776  0.207373 -1.378675  ...  0.337632  1.063358  1.456320   \n",
       "3       0.192071  0.316018 -1.262503  ... -0.147443  0.007267 -0.304777   \n",
       "4       0.479302 -0.226510  0.744326  ... -0.012839  1.100011 -0.220123   \n",
       "...          ...       ...       ...  ...       ...       ...       ...   \n",
       "284802 -3.975628  6.116573  1.742559  ...  0.290602  0.154146  1.624574   \n",
       "284803  0.019667  0.246886  0.532299  ...  0.291625  1.273781  0.019958   \n",
       "284804 -0.239939  0.593140  0.393630  ...  0.315913  0.796788 -0.060053   \n",
       "284805 -0.554672  0.568631  0.356887  ...  0.361112  1.102451 -0.261503   \n",
       "284806  1.274769 -0.347176  0.442532  ...  0.355411  0.886149  0.603365   \n",
       "\n",
       "             V24       V25       V26       V27       V28    Amount  Class  \n",
       "0       0.110507  0.246585 -0.392170  0.330892 -0.063781  0.244964      0  \n",
       "1      -0.561131  0.320694  0.261069 -0.022256  0.044608 -0.342475      0  \n",
       "2      -1.138092 -0.628537 -0.288447 -0.137137 -0.181021  1.160686      0  \n",
       "3      -1.941027  1.241904 -0.460217  0.155396  0.186189  0.140534      0  \n",
       "4       0.233250 -0.395202  1.041611  0.543620  0.651816 -0.073403      0  \n",
       "...          ...       ...       ...       ...       ...       ...    ...  \n",
       "284802 -0.841000  2.756320  0.518500  2.337901  2.495529 -0.350151      0  \n",
       "284803 -1.677920 -1.163726 -0.819647  0.169641 -0.162164 -0.254117      0  \n",
       "284804  1.056944  0.509797 -0.181182  0.011037 -0.080467 -0.081839      0  \n",
       "284805  0.203428 -1.091855  1.133635  0.269604  0.316687 -0.313249      0  \n",
       "284806  0.014526 -0.908631 -1.696853 -0.005984  0.041350  0.514355      0  \n",
       "\n",
       "[284807 rows x 31 columns]"
      ]
     },
     "execution_count": 18,
     "metadata": {},
     "output_type": "execute_result"
    }
   ],
   "source": [
    "from sklearn.preprocessing import StandardScaler\n",
    "scaler = StandardScaler()\n",
    "featureCols = dataframe.columns.difference(['Class'], sort=False)\n",
    "dataframe[featureCols] = scaler.fit_transform(dataframe[featureCols])\n",
    "print(\"std:\", dataframe[featureCols].stack().std())\n",
    "print(\"mean:\", dataframe[featureCols].stack().mean())\n",
    "dataframe\n"
   ]
  },
  {
   "cell_type": "markdown",
   "metadata": {},
   "source": [
    "##### Usunięcie duplikatów"
   ]
  },
  {
   "cell_type": "code",
   "execution_count": 19,
   "metadata": {},
   "outputs": [
    {
     "data": {
      "text/plain": [
       "(283726, 31)"
      ]
     },
     "execution_count": 19,
     "metadata": {},
     "output_type": "execute_result"
    }
   ],
   "source": [
    "dataframe.drop_duplicates(keep='first', inplace=True)\n",
    "dataframe.shape\n"
   ]
  },
  {
   "cell_type": "markdown",
   "metadata": {},
   "source": [
    "### Podział na klasy terningowe i testowe"
   ]
  },
  {
   "cell_type": "code",
   "execution_count": 20,
   "metadata": {},
   "outputs": [
    {
     "name": "stdout",
     "output_type": "stream",
     "text": [
      "train rows: 226980, test rows: 56746\n"
     ]
    }
   ],
   "source": [
    "from sklearn.model_selection import train_test_split\n",
    "\n",
    "X = dataframe.drop(['Class'], axis=1)\n",
    "y = dataframe.Class\n",
    "\n",
    "X_train, X_test, y_train, y_test = train_test_split(\n",
    "    X, y, random_state=0, test_size=0.20)\n",
    "\n",
    "print(\"train rows: {}, test rows: {}\".format(\n",
    "    X_train.shape[0], X_test.shape[0]))  # rows\n"
   ]
  },
  {
   "cell_type": "markdown",
   "metadata": {},
   "source": [
    "## Drzewo decyzyjne"
   ]
  },
  {
   "cell_type": "markdown",
   "metadata": {},
   "source": [
    "### 1. Wariant podstawowy"
   ]
  },
  {
   "cell_type": "code",
   "execution_count": 21,
   "metadata": {},
   "outputs": [
    {
     "data": {
      "image/svg+xml": "<?xml version=\"1.0\" encoding=\"UTF-8\" standalone=\"no\"?>\n<!DOCTYPE svg PUBLIC \"-//W3C//DTD SVG 1.1//EN\"\n \"http://www.w3.org/Graphics/SVG/1.1/DTD/svg11.dtd\">\n<!-- Generated by graphviz version 2.43.0 (0)\n -->\n<!-- Title: Tree Pages: 1 -->\n<svg width=\"1176pt\" height=\"520pt\"\n viewBox=\"0.00 0.00 1175.50 520.00\" xmlns=\"http://www.w3.org/2000/svg\" xmlns:xlink=\"http://www.w3.org/1999/xlink\">\n<g id=\"graph0\" class=\"graph\" transform=\"scale(1 1) rotate(0) translate(4 516)\">\n<title>Tree</title>\n<polygon fill=\"white\" stroke=\"transparent\" points=\"-4,4 -4,-516 1171.5,-516 1171.5,4 -4,4\"/>\n<!-- 0 -->\n<g id=\"node1\" class=\"node\">\n<title>0</title>\n<path fill=\"#e58139\" stroke=\"black\" d=\"M618,-512C618,-512 466,-512 466,-512 460,-512 454,-506 454,-500 454,-500 454,-441 454,-441 454,-435 460,-429 466,-429 466,-429 618,-429 618,-429 624,-429 630,-435 630,-441 630,-441 630,-500 630,-500 630,-506 624,-512 618,-512\"/>\n<text text-anchor=\"start\" x=\"494.5\" y=\"-496.8\" font-family=\"Helvetica,sans-Serif\" font-size=\"14.00\">V17 ≤ &#45;3.177</text>\n<text text-anchor=\"start\" x=\"498\" y=\"-481.8\" font-family=\"Helvetica,sans-Serif\" font-size=\"14.00\">gini = 0.003</text>\n<text text-anchor=\"start\" x=\"475.5\" y=\"-466.8\" font-family=\"Helvetica,sans-Serif\" font-size=\"14.00\">samples = 226980</text>\n<text text-anchor=\"start\" x=\"462\" y=\"-451.8\" font-family=\"Helvetica,sans-Serif\" font-size=\"14.00\">value = [226594, 386]</text>\n<text text-anchor=\"start\" x=\"509.5\" y=\"-436.8\" font-family=\"Helvetica,sans-Serif\" font-size=\"14.00\">class = 0</text>\n</g>\n<!-- 1 -->\n<g id=\"node2\" class=\"node\">\n<title>1</title>\n<path fill=\"#76bbed\" stroke=\"black\" d=\"M469,-393C469,-393 353,-393 353,-393 347,-393 341,-387 341,-381 341,-381 341,-322 341,-322 341,-316 347,-310 353,-310 353,-310 469,-310 469,-310 475,-310 481,-316 481,-322 481,-322 481,-381 481,-381 481,-387 475,-393 469,-393\"/>\n<text text-anchor=\"start\" x=\"363.5\" y=\"-377.8\" font-family=\"Helvetica,sans-Serif\" font-size=\"14.00\">V12 ≤ &#45;2.183</text>\n<text text-anchor=\"start\" x=\"371.5\" y=\"-362.8\" font-family=\"Helvetica,sans-Serif\" font-size=\"14.00\">gini = 0.36</text>\n<text text-anchor=\"start\" x=\"358\" y=\"-347.8\" font-family=\"Helvetica,sans-Serif\" font-size=\"14.00\">samples = 349</text>\n<text text-anchor=\"start\" x=\"349\" y=\"-332.8\" font-family=\"Helvetica,sans-Serif\" font-size=\"14.00\">value = [82, 267]</text>\n<text text-anchor=\"start\" x=\"378.5\" y=\"-317.8\" font-family=\"Helvetica,sans-Serif\" font-size=\"14.00\">class = 1</text>\n</g>\n<!-- 0&#45;&gt;1 -->\n<g id=\"edge1\" class=\"edge\">\n<title>0&#45;&gt;1</title>\n<path fill=\"none\" stroke=\"black\" d=\"M496.55,-428.91C486.08,-419.56 474.86,-409.54 464.1,-399.93\"/>\n<polygon fill=\"black\" stroke=\"black\" points=\"466.16,-397.07 456.37,-393.02 461.5,-402.29 466.16,-397.07\"/>\n<text text-anchor=\"middle\" x=\"457.78\" y=\"-414.28\" font-family=\"Helvetica,sans-Serif\" font-size=\"14.00\">True</text>\n</g>\n<!-- 50 -->\n<g id=\"node13\" class=\"node\">\n<title>50</title>\n<path fill=\"#e58139\" stroke=\"black\" d=\"M766,-393C766,-393 614,-393 614,-393 608,-393 602,-387 602,-381 602,-381 602,-322 602,-322 602,-316 608,-310 614,-310 614,-310 766,-310 766,-310 772,-310 778,-316 778,-322 778,-322 778,-381 778,-381 778,-387 772,-393 766,-393\"/>\n<text text-anchor=\"start\" x=\"642.5\" y=\"-377.8\" font-family=\"Helvetica,sans-Serif\" font-size=\"14.00\">V14 ≤ &#45;8.447</text>\n<text text-anchor=\"start\" x=\"646\" y=\"-362.8\" font-family=\"Helvetica,sans-Serif\" font-size=\"14.00\">gini = 0.001</text>\n<text text-anchor=\"start\" x=\"623.5\" y=\"-347.8\" font-family=\"Helvetica,sans-Serif\" font-size=\"14.00\">samples = 226631</text>\n<text text-anchor=\"start\" x=\"610\" y=\"-332.8\" font-family=\"Helvetica,sans-Serif\" font-size=\"14.00\">value = [226512, 119]</text>\n<text text-anchor=\"start\" x=\"657.5\" y=\"-317.8\" font-family=\"Helvetica,sans-Serif\" font-size=\"14.00\">class = 0</text>\n</g>\n<!-- 0&#45;&gt;50 -->\n<g id=\"edge12\" class=\"edge\">\n<title>0&#45;&gt;50</title>\n<path fill=\"none\" stroke=\"black\" d=\"M593.35,-428.91C605.4,-419.38 618.34,-409.15 630.71,-399.37\"/>\n<polygon fill=\"black\" stroke=\"black\" points=\"633.07,-401.97 638.74,-393.02 628.73,-396.48 633.07,-401.97\"/>\n<text text-anchor=\"middle\" x=\"635.84\" y=\"-414.15\" font-family=\"Helvetica,sans-Serif\" font-size=\"14.00\">False</text>\n</g>\n<!-- 2 -->\n<g id=\"node3\" class=\"node\">\n<title>2</title>\n<path fill=\"#60b1ea\" stroke=\"black\" d=\"M277,-274C277,-274 161,-274 161,-274 155,-274 149,-268 149,-262 149,-262 149,-203 149,-203 149,-197 155,-191 161,-191 161,-191 277,-191 277,-191 283,-191 289,-197 289,-203 289,-203 289,-262 289,-262 289,-268 283,-274 277,-274\"/>\n<text text-anchor=\"start\" x=\"171.5\" y=\"-258.8\" font-family=\"Helvetica,sans-Serif\" font-size=\"14.00\">V14 ≤ &#45;2.914</text>\n<text text-anchor=\"start\" x=\"175\" y=\"-243.8\" font-family=\"Helvetica,sans-Serif\" font-size=\"14.00\">gini = 0.277</text>\n<text text-anchor=\"start\" x=\"166\" y=\"-228.8\" font-family=\"Helvetica,sans-Serif\" font-size=\"14.00\">samples = 319</text>\n<text text-anchor=\"start\" x=\"157\" y=\"-213.8\" font-family=\"Helvetica,sans-Serif\" font-size=\"14.00\">value = [53, 266]</text>\n<text text-anchor=\"start\" x=\"186.5\" y=\"-198.8\" font-family=\"Helvetica,sans-Serif\" font-size=\"14.00\">class = 1</text>\n</g>\n<!-- 1&#45;&gt;2 -->\n<g id=\"edge2\" class=\"edge\">\n<title>1&#45;&gt;2</title>\n<path fill=\"none\" stroke=\"black\" d=\"M344.39,-309.91C328.15,-300.02 310.68,-289.37 294.08,-279.25\"/>\n<polygon fill=\"black\" stroke=\"black\" points=\"295.86,-276.24 285.5,-274.02 292.21,-282.21 295.86,-276.24\"/>\n</g>\n<!-- 47 -->\n<g id=\"node10\" class=\"node\">\n<title>47</title>\n<path fill=\"#e68540\" stroke=\"black\" d=\"M460,-274C460,-274 362,-274 362,-274 356,-274 350,-268 350,-262 350,-262 350,-203 350,-203 350,-197 356,-191 362,-191 362,-191 460,-191 460,-191 466,-191 472,-197 472,-203 472,-203 472,-262 472,-262 472,-268 466,-274 460,-274\"/>\n<text text-anchor=\"start\" x=\"366\" y=\"-258.8\" font-family=\"Helvetica,sans-Serif\" font-size=\"14.00\">V21 ≤ 6.399</text>\n<text text-anchor=\"start\" x=\"367\" y=\"-243.8\" font-family=\"Helvetica,sans-Serif\" font-size=\"14.00\">gini = 0.064</text>\n<text text-anchor=\"start\" x=\"362.5\" y=\"-228.8\" font-family=\"Helvetica,sans-Serif\" font-size=\"14.00\">samples = 30</text>\n<text text-anchor=\"start\" x=\"358\" y=\"-213.8\" font-family=\"Helvetica,sans-Serif\" font-size=\"14.00\">value = [29, 1]</text>\n<text text-anchor=\"start\" x=\"378.5\" y=\"-198.8\" font-family=\"Helvetica,sans-Serif\" font-size=\"14.00\">class = 0</text>\n</g>\n<!-- 1&#45;&gt;47 -->\n<g id=\"edge9\" class=\"edge\">\n<title>1&#45;&gt;47</title>\n<path fill=\"none\" stroke=\"black\" d=\"M411,-309.91C411,-301.65 411,-292.86 411,-284.3\"/>\n<polygon fill=\"black\" stroke=\"black\" points=\"414.5,-284.02 411,-274.02 407.5,-284.02 414.5,-284.02\"/>\n</g>\n<!-- 3 -->\n<g id=\"node4\" class=\"node\">\n<title>3</title>\n<path fill=\"#56abe9\" stroke=\"black\" d=\"M128,-155C128,-155 12,-155 12,-155 6,-155 0,-149 0,-143 0,-143 0,-84 0,-84 0,-78 6,-72 12,-72 12,-72 128,-72 128,-72 134,-72 140,-78 140,-84 140,-84 140,-143 140,-143 140,-149 134,-155 128,-155\"/>\n<text text-anchor=\"start\" x=\"22.5\" y=\"-139.8\" font-family=\"Helvetica,sans-Serif\" font-size=\"14.00\">V26 ≤ &#45;0.548</text>\n<text text-anchor=\"start\" x=\"26\" y=\"-124.8\" font-family=\"Helvetica,sans-Serif\" font-size=\"14.00\">gini = 0.224</text>\n<text text-anchor=\"start\" x=\"17\" y=\"-109.8\" font-family=\"Helvetica,sans-Serif\" font-size=\"14.00\">samples = 295</text>\n<text text-anchor=\"start\" x=\"8\" y=\"-94.8\" font-family=\"Helvetica,sans-Serif\" font-size=\"14.00\">value = [38, 257]</text>\n<text text-anchor=\"start\" x=\"37.5\" y=\"-79.8\" font-family=\"Helvetica,sans-Serif\" font-size=\"14.00\">class = 1</text>\n</g>\n<!-- 2&#45;&gt;3 -->\n<g id=\"edge3\" class=\"edge\">\n<title>2&#45;&gt;3</title>\n<path fill=\"none\" stroke=\"black\" d=\"M167.31,-190.91C155.17,-181.38 142.14,-171.15 129.69,-161.37\"/>\n<polygon fill=\"black\" stroke=\"black\" points=\"131.63,-158.44 121.6,-155.02 127.31,-163.95 131.63,-158.44\"/>\n</g>\n<!-- 40 -->\n<g id=\"node7\" class=\"node\">\n<title>40</title>\n<path fill=\"#f5cdb0\" stroke=\"black\" d=\"M268,-155C268,-155 170,-155 170,-155 164,-155 158,-149 158,-143 158,-143 158,-84 158,-84 158,-78 164,-72 170,-72 170,-72 268,-72 268,-72 274,-72 280,-78 280,-84 280,-84 280,-143 280,-143 280,-149 274,-155 268,-155\"/>\n<text text-anchor=\"start\" x=\"176\" y=\"-139.8\" font-family=\"Helvetica,sans-Serif\" font-size=\"14.00\">V8 ≤ &#45;0.263</text>\n<text text-anchor=\"start\" x=\"175\" y=\"-124.8\" font-family=\"Helvetica,sans-Serif\" font-size=\"14.00\">gini = 0.469</text>\n<text text-anchor=\"start\" x=\"170.5\" y=\"-109.8\" font-family=\"Helvetica,sans-Serif\" font-size=\"14.00\">samples = 24</text>\n<text text-anchor=\"start\" x=\"166\" y=\"-94.8\" font-family=\"Helvetica,sans-Serif\" font-size=\"14.00\">value = [15, 9]</text>\n<text text-anchor=\"start\" x=\"186.5\" y=\"-79.8\" font-family=\"Helvetica,sans-Serif\" font-size=\"14.00\">class = 0</text>\n</g>\n<!-- 2&#45;&gt;40 -->\n<g id=\"edge6\" class=\"edge\">\n<title>2&#45;&gt;40</title>\n<path fill=\"none\" stroke=\"black\" d=\"M219,-190.91C219,-182.65 219,-173.86 219,-165.3\"/>\n<polygon fill=\"black\" stroke=\"black\" points=\"222.5,-165.02 219,-155.02 215.5,-165.02 222.5,-165.02\"/>\n</g>\n<!-- 4 -->\n<g id=\"node5\" class=\"node\">\n<title>4</title>\n<path fill=\"#c0c0c0\" stroke=\"black\" d=\"M49,-36C49,-36 19,-36 19,-36 13,-36 7,-30 7,-24 7,-24 7,-12 7,-12 7,-6 13,0 19,0 19,0 49,0 49,0 55,0 61,-6 61,-12 61,-12 61,-24 61,-24 61,-30 55,-36 49,-36\"/>\n<text text-anchor=\"middle\" x=\"34\" y=\"-14.3\" font-family=\"Helvetica,sans-Serif\" font-size=\"14.00\">(...)</text>\n</g>\n<!-- 3&#45;&gt;4 -->\n<g id=\"edge4\" class=\"edge\">\n<title>3&#45;&gt;4</title>\n<path fill=\"none\" stroke=\"black\" d=\"M54.31,-71.76C50.96,-63.04 47.49,-54.04 44.39,-45.99\"/>\n<polygon fill=\"black\" stroke=\"black\" points=\"47.56,-44.48 40.7,-36.41 41.03,-46.99 47.56,-44.48\"/>\n</g>\n<!-- 19 -->\n<g id=\"node6\" class=\"node\">\n<title>19</title>\n<path fill=\"#c0c0c0\" stroke=\"black\" d=\"M121,-36C121,-36 91,-36 91,-36 85,-36 79,-30 79,-24 79,-24 79,-12 79,-12 79,-6 85,0 91,0 91,0 121,0 121,0 127,0 133,-6 133,-12 133,-12 133,-24 133,-24 133,-30 127,-36 121,-36\"/>\n<text text-anchor=\"middle\" x=\"106\" y=\"-14.3\" font-family=\"Helvetica,sans-Serif\" font-size=\"14.00\">(...)</text>\n</g>\n<!-- 3&#45;&gt;19 -->\n<g id=\"edge5\" class=\"edge\">\n<title>3&#45;&gt;19</title>\n<path fill=\"none\" stroke=\"black\" d=\"M85.69,-71.76C89.04,-63.04 92.51,-54.04 95.61,-45.99\"/>\n<polygon fill=\"black\" stroke=\"black\" points=\"98.97,-46.99 99.3,-36.41 92.44,-44.48 98.97,-46.99\"/>\n</g>\n<!-- 41 -->\n<g id=\"node8\" class=\"node\">\n<title>41</title>\n<path fill=\"#c0c0c0\" stroke=\"black\" d=\"M214,-36C214,-36 184,-36 184,-36 178,-36 172,-30 172,-24 172,-24 172,-12 172,-12 172,-6 178,0 184,0 184,0 214,0 214,0 220,0 226,-6 226,-12 226,-12 226,-24 226,-24 226,-30 220,-36 214,-36\"/>\n<text text-anchor=\"middle\" x=\"199\" y=\"-14.3\" font-family=\"Helvetica,sans-Serif\" font-size=\"14.00\">(...)</text>\n</g>\n<!-- 40&#45;&gt;41 -->\n<g id=\"edge7\" class=\"edge\">\n<title>40&#45;&gt;41</title>\n<path fill=\"none\" stroke=\"black\" d=\"M210.29,-71.76C208.44,-63.14 206.54,-54.24 204.83,-46.26\"/>\n<polygon fill=\"black\" stroke=\"black\" points=\"208.24,-45.45 202.72,-36.41 201.39,-46.92 208.24,-45.45\"/>\n</g>\n<!-- 42 -->\n<g id=\"node9\" class=\"node\">\n<title>42</title>\n<path fill=\"#c0c0c0\" stroke=\"black\" d=\"M286,-36C286,-36 256,-36 256,-36 250,-36 244,-30 244,-24 244,-24 244,-12 244,-12 244,-6 250,0 256,0 256,0 286,0 286,0 292,0 298,-6 298,-12 298,-12 298,-24 298,-24 298,-30 292,-36 286,-36\"/>\n<text text-anchor=\"middle\" x=\"271\" y=\"-14.3\" font-family=\"Helvetica,sans-Serif\" font-size=\"14.00\">(...)</text>\n</g>\n<!-- 40&#45;&gt;42 -->\n<g id=\"edge8\" class=\"edge\">\n<title>40&#45;&gt;42</title>\n<path fill=\"none\" stroke=\"black\" d=\"M241.66,-71.76C246.67,-62.75 251.85,-53.44 256.43,-45.19\"/>\n<polygon fill=\"black\" stroke=\"black\" points=\"259.52,-46.85 261.32,-36.41 253.4,-43.44 259.52,-46.85\"/>\n</g>\n<!-- 48 -->\n<g id=\"node11\" class=\"node\">\n<title>48</title>\n<path fill=\"#e58139\" stroke=\"black\" d=\"M408,-147.5C408,-147.5 310,-147.5 310,-147.5 304,-147.5 298,-141.5 298,-135.5 298,-135.5 298,-91.5 298,-91.5 298,-85.5 304,-79.5 310,-79.5 310,-79.5 408,-79.5 408,-79.5 414,-79.5 420,-85.5 420,-91.5 420,-91.5 420,-135.5 420,-135.5 420,-141.5 414,-147.5 408,-147.5\"/>\n<text text-anchor=\"start\" x=\"324\" y=\"-132.3\" font-family=\"Helvetica,sans-Serif\" font-size=\"14.00\">gini = 0.0</text>\n<text text-anchor=\"start\" x=\"310.5\" y=\"-117.3\" font-family=\"Helvetica,sans-Serif\" font-size=\"14.00\">samples = 29</text>\n<text text-anchor=\"start\" x=\"306\" y=\"-102.3\" font-family=\"Helvetica,sans-Serif\" font-size=\"14.00\">value = [29, 0]</text>\n<text text-anchor=\"start\" x=\"326.5\" y=\"-87.3\" font-family=\"Helvetica,sans-Serif\" font-size=\"14.00\">class = 0</text>\n</g>\n<!-- 47&#45;&gt;48 -->\n<g id=\"edge10\" class=\"edge\">\n<title>47&#45;&gt;48</title>\n<path fill=\"none\" stroke=\"black\" d=\"M392.96,-190.91C388.1,-179.98 382.84,-168.14 377.94,-157.11\"/>\n<polygon fill=\"black\" stroke=\"black\" points=\"381,-155.38 373.74,-147.67 374.6,-158.23 381,-155.38\"/>\n</g>\n<!-- 49 -->\n<g id=\"node12\" class=\"node\">\n<title>49</title>\n<path fill=\"#399de5\" stroke=\"black\" d=\"M539.5,-147.5C539.5,-147.5 450.5,-147.5 450.5,-147.5 444.5,-147.5 438.5,-141.5 438.5,-135.5 438.5,-135.5 438.5,-91.5 438.5,-91.5 438.5,-85.5 444.5,-79.5 450.5,-79.5 450.5,-79.5 539.5,-79.5 539.5,-79.5 545.5,-79.5 551.5,-85.5 551.5,-91.5 551.5,-91.5 551.5,-135.5 551.5,-135.5 551.5,-141.5 545.5,-147.5 539.5,-147.5\"/>\n<text text-anchor=\"start\" x=\"460\" y=\"-132.3\" font-family=\"Helvetica,sans-Serif\" font-size=\"14.00\">gini = 0.0</text>\n<text text-anchor=\"start\" x=\"451\" y=\"-117.3\" font-family=\"Helvetica,sans-Serif\" font-size=\"14.00\">samples = 1</text>\n<text text-anchor=\"start\" x=\"446.5\" y=\"-102.3\" font-family=\"Helvetica,sans-Serif\" font-size=\"14.00\">value = [0, 1]</text>\n<text text-anchor=\"start\" x=\"462.5\" y=\"-87.3\" font-family=\"Helvetica,sans-Serif\" font-size=\"14.00\">class = 1</text>\n</g>\n<!-- 47&#45;&gt;49 -->\n<g id=\"edge11\" class=\"edge\">\n<title>47&#45;&gt;49</title>\n<path fill=\"none\" stroke=\"black\" d=\"M440.14,-190.91C448.22,-179.65 457.01,-167.42 465.13,-156.11\"/>\n<polygon fill=\"black\" stroke=\"black\" points=\"468.2,-157.83 471.19,-147.67 462.51,-153.75 468.2,-157.83\"/>\n</g>\n<!-- 51 -->\n<g id=\"node14\" class=\"node\">\n<title>51</title>\n<path fill=\"#4fa8e8\" stroke=\"black\" d=\"M739,-274C739,-274 641,-274 641,-274 635,-274 629,-268 629,-262 629,-262 629,-203 629,-203 629,-197 635,-191 641,-191 641,-191 739,-191 739,-191 745,-191 751,-197 751,-203 751,-203 751,-262 751,-262 751,-268 745,-274 739,-274\"/>\n<text text-anchor=\"start\" x=\"647\" y=\"-258.8\" font-family=\"Helvetica,sans-Serif\" font-size=\"14.00\">V3 ≤ &#45;2.234</text>\n<text text-anchor=\"start\" x=\"650.5\" y=\"-243.8\" font-family=\"Helvetica,sans-Serif\" font-size=\"14.00\">gini = 0.18</text>\n<text text-anchor=\"start\" x=\"641.5\" y=\"-228.8\" font-family=\"Helvetica,sans-Serif\" font-size=\"14.00\">samples = 30</text>\n<text text-anchor=\"start\" x=\"637\" y=\"-213.8\" font-family=\"Helvetica,sans-Serif\" font-size=\"14.00\">value = [3, 27]</text>\n<text text-anchor=\"start\" x=\"657.5\" y=\"-198.8\" font-family=\"Helvetica,sans-Serif\" font-size=\"14.00\">class = 1</text>\n</g>\n<!-- 50&#45;&gt;51 -->\n<g id=\"edge13\" class=\"edge\">\n<title>50&#45;&gt;51</title>\n<path fill=\"none\" stroke=\"black\" d=\"M690,-309.91C690,-301.65 690,-292.86 690,-284.3\"/>\n<polygon fill=\"black\" stroke=\"black\" points=\"693.5,-284.02 690,-274.02 686.5,-284.02 693.5,-284.02\"/>\n</g>\n<!-- 54 -->\n<g id=\"node17\" class=\"node\">\n<title>54</title>\n<path fill=\"#e58139\" stroke=\"black\" d=\"M983.5,-274C983.5,-274 840.5,-274 840.5,-274 834.5,-274 828.5,-268 828.5,-262 828.5,-262 828.5,-203 828.5,-203 828.5,-197 834.5,-191 840.5,-191 840.5,-191 983.5,-191 983.5,-191 989.5,-191 995.5,-197 995.5,-203 995.5,-203 995.5,-262 995.5,-262 995.5,-268 989.5,-274 983.5,-274\"/>\n<text text-anchor=\"start\" x=\"864.5\" y=\"-258.8\" font-family=\"Helvetica,sans-Serif\" font-size=\"14.00\">V14 ≤ &#45;4.894</text>\n<text text-anchor=\"start\" x=\"868\" y=\"-243.8\" font-family=\"Helvetica,sans-Serif\" font-size=\"14.00\">gini = 0.001</text>\n<text text-anchor=\"start\" x=\"845.5\" y=\"-228.8\" font-family=\"Helvetica,sans-Serif\" font-size=\"14.00\">samples = 226601</text>\n<text text-anchor=\"start\" x=\"836.5\" y=\"-213.8\" font-family=\"Helvetica,sans-Serif\" font-size=\"14.00\">value = [226509, 92]</text>\n<text text-anchor=\"start\" x=\"879.5\" y=\"-198.8\" font-family=\"Helvetica,sans-Serif\" font-size=\"14.00\">class = 0</text>\n</g>\n<!-- 50&#45;&gt;54 -->\n<g id=\"edge16\" class=\"edge\">\n<title>50&#45;&gt;54</title>\n<path fill=\"none\" stroke=\"black\" d=\"M767.02,-309.91C786.14,-299.83 806.74,-288.98 826.24,-278.7\"/>\n<polygon fill=\"black\" stroke=\"black\" points=\"827.9,-281.78 835.11,-274.02 824.64,-275.59 827.9,-281.78\"/>\n</g>\n<!-- 52 -->\n<g id=\"node15\" class=\"node\">\n<title>52</title>\n<path fill=\"#399de5\" stroke=\"black\" d=\"M680,-147.5C680,-147.5 582,-147.5 582,-147.5 576,-147.5 570,-141.5 570,-135.5 570,-135.5 570,-91.5 570,-91.5 570,-85.5 576,-79.5 582,-79.5 582,-79.5 680,-79.5 680,-79.5 686,-79.5 692,-85.5 692,-91.5 692,-91.5 692,-135.5 692,-135.5 692,-141.5 686,-147.5 680,-147.5\"/>\n<text text-anchor=\"start\" x=\"596\" y=\"-132.3\" font-family=\"Helvetica,sans-Serif\" font-size=\"14.00\">gini = 0.0</text>\n<text text-anchor=\"start\" x=\"582.5\" y=\"-117.3\" font-family=\"Helvetica,sans-Serif\" font-size=\"14.00\">samples = 27</text>\n<text text-anchor=\"start\" x=\"578\" y=\"-102.3\" font-family=\"Helvetica,sans-Serif\" font-size=\"14.00\">value = [0, 27]</text>\n<text text-anchor=\"start\" x=\"598.5\" y=\"-87.3\" font-family=\"Helvetica,sans-Serif\" font-size=\"14.00\">class = 1</text>\n</g>\n<!-- 51&#45;&gt;52 -->\n<g id=\"edge14\" class=\"edge\">\n<title>51&#45;&gt;52</title>\n<path fill=\"none\" stroke=\"black\" d=\"M669.53,-190.91C663.97,-179.87 657.93,-167.9 652.32,-156.77\"/>\n<polygon fill=\"black\" stroke=\"black\" points=\"655.35,-155.02 647.73,-147.67 649.1,-158.17 655.35,-155.02\"/>\n</g>\n<!-- 53 -->\n<g id=\"node16\" class=\"node\">\n<title>53</title>\n<path fill=\"#e58139\" stroke=\"black\" d=\"M811.5,-147.5C811.5,-147.5 722.5,-147.5 722.5,-147.5 716.5,-147.5 710.5,-141.5 710.5,-135.5 710.5,-135.5 710.5,-91.5 710.5,-91.5 710.5,-85.5 716.5,-79.5 722.5,-79.5 722.5,-79.5 811.5,-79.5 811.5,-79.5 817.5,-79.5 823.5,-85.5 823.5,-91.5 823.5,-91.5 823.5,-135.5 823.5,-135.5 823.5,-141.5 817.5,-147.5 811.5,-147.5\"/>\n<text text-anchor=\"start\" x=\"732\" y=\"-132.3\" font-family=\"Helvetica,sans-Serif\" font-size=\"14.00\">gini = 0.0</text>\n<text text-anchor=\"start\" x=\"723\" y=\"-117.3\" font-family=\"Helvetica,sans-Serif\" font-size=\"14.00\">samples = 3</text>\n<text text-anchor=\"start\" x=\"718.5\" y=\"-102.3\" font-family=\"Helvetica,sans-Serif\" font-size=\"14.00\">value = [3, 0]</text>\n<text text-anchor=\"start\" x=\"734.5\" y=\"-87.3\" font-family=\"Helvetica,sans-Serif\" font-size=\"14.00\">class = 0</text>\n</g>\n<!-- 51&#45;&gt;53 -->\n<g id=\"edge15\" class=\"edge\">\n<title>51&#45;&gt;53</title>\n<path fill=\"none\" stroke=\"black\" d=\"M716.71,-190.91C724.12,-179.65 732.17,-167.42 739.62,-156.11\"/>\n<polygon fill=\"black\" stroke=\"black\" points=\"742.6,-157.94 745.17,-147.67 736.75,-154.1 742.6,-157.94\"/>\n</g>\n<!-- 55 -->\n<g id=\"node18\" class=\"node\">\n<title>55</title>\n<path fill=\"#ea985d\" stroke=\"black\" d=\"M970,-155C970,-155 854,-155 854,-155 848,-155 842,-149 842,-143 842,-143 842,-84 842,-84 842,-78 848,-72 854,-72 854,-72 970,-72 970,-72 976,-72 982,-78 982,-84 982,-84 982,-143 982,-143 982,-149 976,-155 970,-155\"/>\n<text text-anchor=\"start\" x=\"864.5\" y=\"-139.8\" font-family=\"Helvetica,sans-Serif\" font-size=\"14.00\">V10 ≤ &#45;1.691</text>\n<text text-anchor=\"start\" x=\"868\" y=\"-124.8\" font-family=\"Helvetica,sans-Serif\" font-size=\"14.00\">gini = 0.259</text>\n<text text-anchor=\"start\" x=\"859\" y=\"-109.8\" font-family=\"Helvetica,sans-Serif\" font-size=\"14.00\">samples = 170</text>\n<text text-anchor=\"start\" x=\"850\" y=\"-94.8\" font-family=\"Helvetica,sans-Serif\" font-size=\"14.00\">value = [144, 26]</text>\n<text text-anchor=\"start\" x=\"879.5\" y=\"-79.8\" font-family=\"Helvetica,sans-Serif\" font-size=\"14.00\">class = 0</text>\n</g>\n<!-- 54&#45;&gt;55 -->\n<g id=\"edge17\" class=\"edge\">\n<title>54&#45;&gt;55</title>\n<path fill=\"none\" stroke=\"black\" d=\"M912,-190.91C912,-182.65 912,-173.86 912,-165.3\"/>\n<polygon fill=\"black\" stroke=\"black\" points=\"915.5,-165.02 912,-155.02 908.5,-165.02 915.5,-165.02\"/>\n</g>\n<!-- 76 -->\n<g id=\"node21\" class=\"node\">\n<title>76</title>\n<path fill=\"#e58139\" stroke=\"black\" d=\"M1155.5,-155C1155.5,-155 1012.5,-155 1012.5,-155 1006.5,-155 1000.5,-149 1000.5,-143 1000.5,-143 1000.5,-84 1000.5,-84 1000.5,-78 1006.5,-72 1012.5,-72 1012.5,-72 1155.5,-72 1155.5,-72 1161.5,-72 1167.5,-78 1167.5,-84 1167.5,-84 1167.5,-143 1167.5,-143 1167.5,-149 1161.5,-155 1155.5,-155\"/>\n<text text-anchor=\"start\" x=\"1036.5\" y=\"-139.8\" font-family=\"Helvetica,sans-Serif\" font-size=\"14.00\">V12 ≤ &#45;4.984</text>\n<text text-anchor=\"start\" x=\"1040\" y=\"-124.8\" font-family=\"Helvetica,sans-Serif\" font-size=\"14.00\">gini = 0.001</text>\n<text text-anchor=\"start\" x=\"1017.5\" y=\"-109.8\" font-family=\"Helvetica,sans-Serif\" font-size=\"14.00\">samples = 226431</text>\n<text text-anchor=\"start\" x=\"1008.5\" y=\"-94.8\" font-family=\"Helvetica,sans-Serif\" font-size=\"14.00\">value = [226365, 66]</text>\n<text text-anchor=\"start\" x=\"1051.5\" y=\"-79.8\" font-family=\"Helvetica,sans-Serif\" font-size=\"14.00\">class = 0</text>\n</g>\n<!-- 54&#45;&gt;76 -->\n<g id=\"edge20\" class=\"edge\">\n<title>54&#45;&gt;76</title>\n<path fill=\"none\" stroke=\"black\" d=\"M971.67,-190.91C985.95,-181.2 1001.3,-170.76 1015.92,-160.81\"/>\n<polygon fill=\"black\" stroke=\"black\" points=\"1018.13,-163.54 1024.43,-155.02 1014.19,-157.75 1018.13,-163.54\"/>\n</g>\n<!-- 56 -->\n<g id=\"node19\" class=\"node\">\n<title>56</title>\n<path fill=\"#c0c0c0\" stroke=\"black\" d=\"M887,-36C887,-36 857,-36 857,-36 851,-36 845,-30 845,-24 845,-24 845,-12 845,-12 845,-6 851,0 857,0 857,0 887,0 887,0 893,0 899,-6 899,-12 899,-12 899,-24 899,-24 899,-30 893,-36 887,-36\"/>\n<text text-anchor=\"middle\" x=\"872\" y=\"-14.3\" font-family=\"Helvetica,sans-Serif\" font-size=\"14.00\">(...)</text>\n</g>\n<!-- 55&#45;&gt;56 -->\n<g id=\"edge18\" class=\"edge\">\n<title>55&#45;&gt;56</title>\n<path fill=\"none\" stroke=\"black\" d=\"M894.57,-71.76C890.8,-62.94 886.9,-53.84 883.43,-45.72\"/>\n<polygon fill=\"black\" stroke=\"black\" points=\"886.6,-44.22 879.45,-36.41 880.16,-46.98 886.6,-44.22\"/>\n</g>\n<!-- 65 -->\n<g id=\"node20\" class=\"node\">\n<title>65</title>\n<path fill=\"#c0c0c0\" stroke=\"black\" d=\"M959,-36C959,-36 929,-36 929,-36 923,-36 917,-30 917,-24 917,-24 917,-12 917,-12 917,-6 923,0 929,0 929,0 959,0 959,0 965,0 971,-6 971,-12 971,-12 971,-24 971,-24 971,-30 965,-36 959,-36\"/>\n<text text-anchor=\"middle\" x=\"944\" y=\"-14.3\" font-family=\"Helvetica,sans-Serif\" font-size=\"14.00\">(...)</text>\n</g>\n<!-- 55&#45;&gt;65 -->\n<g id=\"edge19\" class=\"edge\">\n<title>55&#45;&gt;65</title>\n<path fill=\"none\" stroke=\"black\" d=\"M925.94,-71.76C928.93,-63.04 932.01,-54.04 934.76,-45.99\"/>\n<polygon fill=\"black\" stroke=\"black\" points=\"938.12,-47 938.04,-36.41 931.49,-44.73 938.12,-47\"/>\n</g>\n<!-- 77 -->\n<g id=\"node22\" class=\"node\">\n<title>77</title>\n<path fill=\"#c0c0c0\" stroke=\"black\" d=\"M1063,-36C1063,-36 1033,-36 1033,-36 1027,-36 1021,-30 1021,-24 1021,-24 1021,-12 1021,-12 1021,-6 1027,0 1033,0 1033,0 1063,0 1063,0 1069,0 1075,-6 1075,-12 1075,-12 1075,-24 1075,-24 1075,-30 1069,-36 1063,-36\"/>\n<text text-anchor=\"middle\" x=\"1048\" y=\"-14.3\" font-family=\"Helvetica,sans-Serif\" font-size=\"14.00\">(...)</text>\n</g>\n<!-- 76&#45;&gt;77 -->\n<g id=\"edge21\" class=\"edge\">\n<title>76&#45;&gt;77</title>\n<path fill=\"none\" stroke=\"black\" d=\"M1068.31,-71.76C1064.96,-63.04 1061.49,-54.04 1058.39,-45.99\"/>\n<polygon fill=\"black\" stroke=\"black\" points=\"1061.56,-44.48 1054.7,-36.41 1055.03,-46.99 1061.56,-44.48\"/>\n</g>\n<!-- 80 -->\n<g id=\"node23\" class=\"node\">\n<title>80</title>\n<path fill=\"#c0c0c0\" stroke=\"black\" d=\"M1135,-36C1135,-36 1105,-36 1105,-36 1099,-36 1093,-30 1093,-24 1093,-24 1093,-12 1093,-12 1093,-6 1099,0 1105,0 1105,0 1135,0 1135,0 1141,0 1147,-6 1147,-12 1147,-12 1147,-24 1147,-24 1147,-30 1141,-36 1135,-36\"/>\n<text text-anchor=\"middle\" x=\"1120\" y=\"-14.3\" font-family=\"Helvetica,sans-Serif\" font-size=\"14.00\">(...)</text>\n</g>\n<!-- 76&#45;&gt;80 -->\n<g id=\"edge22\" class=\"edge\">\n<title>76&#45;&gt;80</title>\n<path fill=\"none\" stroke=\"black\" d=\"M1099.69,-71.76C1103.04,-63.04 1106.51,-54.04 1109.61,-45.99\"/>\n<polygon fill=\"black\" stroke=\"black\" points=\"1112.97,-46.99 1113.3,-36.41 1106.44,-44.48 1112.97,-46.99\"/>\n</g>\n</g>\n</svg>\n",
      "text/plain": [
       "<graphviz.sources.Source at 0x7f15c635ca60>"
      ]
     },
     "execution_count": 21,
     "metadata": {},
     "output_type": "execute_result"
    }
   ],
   "source": [
    "from helpers import computeDecitionTree\n",
    "\n",
    "y_pred, graph = computeDecitionTree(\n",
    "    X_train, X_test, y_train)\n",
    "graph\n"
   ]
  },
  {
   "cell_type": "code",
   "execution_count": 22,
   "metadata": {},
   "outputs": [
    {
     "data": {
      "image/png": "[encoded data removed]",
      "text/plain": [
       "<Figure size 432x288 with 2 Axes>"
      ]
     },
     "metadata": {
      "needs_background": "light"
     },
     "output_type": "display_data"
    },
    {
     "name": "stdout",
     "output_type": "stream",
     "text": [
      "accuracy = 0.9992, sensitivity = 0.7816, specificity = 0.9996\n"
     ]
    }
   ],
   "source": [
    "from helpers import analyse\n",
    "accuracy, sensitivity, specificity = analyse(y_test, y_pred, True)\n"
   ]
  },
  {
   "cell_type": "markdown",
   "metadata": {},
   "source": [
    "#### Wnioski\n",
    "* wysoka dokładność nie oznacza poprawnego działania w przypadku niezbalansowanych danych\n",
    "* stosunkowo niska czułość (77%) wskazuje na duży odsetek fałszywie negatywnynch klasyfikacji"
   ]
  },
  {
   "cell_type": "markdown",
   "metadata": {},
   "source": [
    "### 2. Parametry klasyfikatora"
   ]
  },
  {
   "cell_type": "markdown",
   "metadata": {},
   "source": [
    "##### Głębokość i liczba cech"
   ]
  },
  {
   "cell_type": "code",
   "execution_count": 35,
   "metadata": {},
   "outputs": [],
   "source": [
    "r = range(1, 24, 4)\n",
    "depth_sensitivities = []\n",
    "for depth in r:\n",
    "    y_pred, graph = computeDecitionTree(\n",
    "        X_train, X_test, y_train, max_depth=depth)\n",
    "    accuracy, sensitivity, specificity = analyse(y_test, y_pred)\n",
    "    depth_sensitivities.append(sensitivity)\n",
    "\n",
    "features_sensitivities = []\n",
    "for features in r:\n",
    "    y_pred, graph = computeDecitionTree(\n",
    "        X_train, X_test, y_train, max_features=features)\n",
    "    accuracy, sensitivity, specificity = analyse(y_test, y_pred)\n",
    "    features_sensitivities.append(sensitivity)\n"
   ]
  },
  {
   "cell_type": "code",
   "execution_count": 36,
   "metadata": {},
   "outputs": [
    {
     "data": {
      "image/png": "[encoded data removed]",
      "text/plain": [
       "<Figure size 432x288 with 1 Axes>"
      ]
     },
     "metadata": {
      "needs_background": "light"
     },
     "output_type": "display_data"
    },
    {
     "name": "stdout",
     "output_type": "stream",
     "text": [
      "max depth sensitivity: 0.7816091954022989, max features sensitivity: 0.7586206896551724\n"
     ]
    }
   ],
   "source": [
    "import matplotlib.pyplot as plt\n",
    "import numpy as np\n",
    "\n",
    "plot_style = {\"marker\": 'o', \"linestyle\": '--'}\n",
    "\n",
    "fig, ax = plt.subplots()\n",
    "\n",
    "ax.plot(r, depth_sensitivities, label=\"max_depth\", **plot_style)\n",
    "ax.plot(r, features_sensitivities, label=\"max_features\", **plot_style)\n",
    "\n",
    "ax.set(xlabel='n', ylabel='sensitivity',\n",
    "       title='Czułość dla różnych parametrów klasyfikatora')\n",
    "ax.grid()\n",
    "ax.legend()\n",
    "\n",
    "plt.show()\n",
    "print(\"max depth sensitivity: {}, max features sensitivity: {}\".format(\n",
    "    max(depth_sensitivities), max(features_sensitivities)))\n"
   ]
  },
  {
   "cell_type": "markdown",
   "metadata": {},
   "source": [
    "##### Kryterium podziału"
   ]
  },
  {
   "cell_type": "code",
   "execution_count": 37,
   "metadata": {},
   "outputs": [
    {
     "data": {
      "image/png": "[encoded data removed]",
      "text/plain": [
       "<Figure size 432x288 with 2 Axes>"
      ]
     },
     "metadata": {
      "needs_background": "light"
     },
     "output_type": "display_data"
    },
    {
     "name": "stdout",
     "output_type": "stream",
     "text": [
      "accuracy = 0.9993, sensitivity = 0.8046, specificity = 0.9996\n"
     ]
    }
   ],
   "source": [
    "y_pred, graph = computeDecitionTree(\n",
    "    X_train, X_test, y_train, criterion='entropy')\n",
    "accuracy, sensitivity, specificity = analyse(y_test, y_pred, True)\n"
   ]
  },
  {
   "cell_type": "markdown",
   "metadata": {},
   "source": [
    "#### Wnioski\n",
    "\n",
    "* Parametry klasyfikatora wpływają na jego czułość i zależą bezpośrednio od jego typu\n",
    "* Dla przykładu kart kredytowych wartość parametrów głębokości i liczby cech dających największą czułość to 13. Potem czułość klasyfikatora stabilizuje się na określonynm poziomie.\n",
    "* Ręczne ustawienie parametrów daje porównywalną czułość, jak ustawienia i optymalizacje domyślne (80% vs 78%).\n",
    "* Zmiana kryterium na entropię delikatnie pomaga zwiekszyć czułość"
   ]
  },
  {
   "cell_type": "markdown",
   "metadata": {},
   "source": [
    "### 3. Selekcja cech - ANOVA"
   ]
  },
  {
   "cell_type": "code",
   "execution_count": 38,
   "metadata": {},
   "outputs": [
    {
     "name": "stdout",
     "output_type": "stream",
     "text": [
      "train rows: 190096, test rows: 93630\n"
     ]
    }
   ],
   "source": [
    "from sklearn.feature_selection import SelectPercentile, f_classif\n",
    "select = SelectPercentile(f_classif, percentile=10).fit(X, y)\n",
    "\n",
    "X_anova = pd.DataFrame(select.transform(X))\n",
    "X_anova.columns = select.get_feature_names_out()\n",
    "\n",
    "X_train_anova, X_test_anova, y_train_anova, y_test_anova = train_test_split(\n",
    "    X_anova, y, random_state=331, test_size=0.33)\n",
    "\n",
    "print(\"train rows: {}, test rows: {}\".format(\n",
    "    X_train_anova.shape[0], X_test_anova.shape[0]))  # rows\n"
   ]
  },
  {
   "cell_type": "code",
   "execution_count": 39,
   "metadata": {},
   "outputs": [
    {
     "data": {
      "image/png": "[encoded data removed]",
      "text/plain": [
       "<Figure size 432x288 with 2 Axes>"
      ]
     },
     "metadata": {
      "needs_background": "light"
     },
     "output_type": "display_data"
    },
    {
     "name": "stdout",
     "output_type": "stream",
     "text": [
      "accuracy = 0.9991, sensitivity = 0.7484, specificity = 0.9996\n"
     ]
    }
   ],
   "source": [
    "y_pred_anova, graph = computeDecitionTree(\n",
    "    X_train_anova, X_test_anova, y_train_anova)\n",
    "\n",
    "accuracy, sensitivity, specificity = analyse(y_test_anova, y_pred_anova, True)\n"
   ]
  },
  {
   "cell_type": "markdown",
   "metadata": {},
   "source": [
    "#### Wnioski\n",
    "\n",
    "* Selekcja cech, w przypadku drzewa decyzyjnego nie wpływa znacząco na czułość klasyfikatora, ponieważ drzewo samo w sobie przeprowadza optymlizację zgodnie z kryterium gini albo entropii. Nawet może prowadzić do zmniejszenia czułości klasyfikatora."
   ]
  },
  {
   "cell_type": "markdown",
   "metadata": {},
   "source": [
    "### 4. Problem niezbalansowanych klas"
   ]
  },
  {
   "cell_type": "markdown",
   "metadata": {},
   "source": [
    "#### Oversampling - SMOTE"
   ]
  },
  {
   "cell_type": "code",
   "execution_count": 40,
   "metadata": {},
   "outputs": [
    {
     "data": {
      "image/png": "[encoded data removed]",
      "text/plain": [
       "<Figure size 432x288 with 2 Axes>"
      ]
     },
     "metadata": {
      "needs_background": "light"
     },
     "output_type": "display_data"
    },
    {
     "name": "stdout",
     "output_type": "stream",
     "text": [
      "accuracy = 0.9974, sensitivity = 0.7701, specificity = 0.9978\n"
     ]
    },
    {
     "data": {
      "text/plain": [
       "(0.9974447538152469, 0.7701149425287356, 0.9977938191637692)"
      ]
     },
     "execution_count": 40,
     "metadata": {},
     "output_type": "execute_result"
    }
   ],
   "source": [
    "from imblearn.over_sampling import SMOTE\n",
    "\n",
    "X_train_smote, y_train_smote = SMOTE(random_state=0).fit_resample(X_train, y_train)\n",
    "\n",
    "y_pred_smote, graph = computeDecitionTree(\n",
    "    X_train_smote, X_test, y_train_smote)\n",
    "analyse(y_test, y_pred_smote, True)\n"
   ]
  },
  {
   "cell_type": "markdown",
   "metadata": {},
   "source": [
    "#### Oversampling - SVMSMOTE"
   ]
  },
  {
   "cell_type": "code",
   "execution_count": 41,
   "metadata": {},
   "outputs": [
    {
     "data": {
      "text/plain": [
       "' from imblearn.over_sampling import  SVMSMOTE\\n\\nX_train_smote, y_train_smote = SVMSMOTE().fit_resample(X_train, y_train)\\n\\ny_pred_smote, graph = computeDecitionTree(\\n    X_train_smote, X_test, y_train_smote)\\nanalyse(y_test, y_pred_smote, True) '"
      ]
     },
     "execution_count": 41,
     "metadata": {},
     "output_type": "execute_result"
    }
   ],
   "source": [
    "\"\"\" from imblearn.over_sampling import  SVMSMOTE\n",
    "\n",
    "X_train_smote, y_train_smote = SVMSMOTE().fit_resample(X_train, y_train)\n",
    "\n",
    "y_pred_smote, graph = computeDecitionTree(\n",
    "    X_train_smote, X_test, y_train_smote)\n",
    "analyse(y_test, y_pred_smote, True) \"\"\"\n"
   ]
  },
  {
   "cell_type": "markdown",
   "metadata": {},
   "source": [
    "#### Oversampling - ADASYN"
   ]
  },
  {
   "cell_type": "code",
   "execution_count": 42,
   "metadata": {},
   "outputs": [
    {
     "data": {
      "image/png": "[encoded data removed]",
      "text/plain": [
       "<Figure size 432x288 with 2 Axes>"
      ]
     },
     "metadata": {
      "needs_background": "light"
     },
     "output_type": "display_data"
    },
    {
     "name": "stdout",
     "output_type": "stream",
     "text": [
      "accuracy = 0.9977, sensitivity = 0.7126, specificity = 0.9981\n"
     ]
    },
    {
     "data": {
      "text/plain": [
       "(0.9976562224650196, 0.7126436781609196, 0.9980938597574966)"
      ]
     },
     "execution_count": 42,
     "metadata": {},
     "output_type": "execute_result"
    }
   ],
   "source": [
    "from imblearn.over_sampling import ADASYN\n",
    "\n",
    "X_train_adasyn, y_train_adasyn = ADASYN(random_state=0).fit_resample(X_train, y_train)\n",
    "\n",
    "y_pred_adasyn, graph = computeDecitionTree(\n",
    "    X_train_adasyn, X_test, y_train_adasyn)\n",
    "analyse(y_test, y_pred_adasyn, True)\n"
   ]
  },
  {
   "cell_type": "markdown",
   "metadata": {},
   "source": [
    "#### Undersampling - random"
   ]
  },
  {
   "cell_type": "code",
   "execution_count": 43,
   "metadata": {},
   "outputs": [
    {
     "data": {
      "image/png": "[encoded data removed]",
      "text/plain": [
       "<Figure size 432x288 with 2 Axes>"
      ]
     },
     "metadata": {
      "needs_background": "light"
     },
     "output_type": "display_data"
    },
    {
     "name": "stdout",
     "output_type": "stream",
     "text": [
      "accuracy = 0.8917, sensitivity = 0.8851, specificity = 0.8917\n"
     ]
    },
    {
     "data": {
      "text/plain": [
       "(0.8916751841539492, 0.8850574712643678, 0.8916853456644134)"
      ]
     },
     "execution_count": 43,
     "metadata": {},
     "output_type": "execute_result"
    }
   ],
   "source": [
    "from imblearn.under_sampling import RandomUnderSampler\n",
    "cc = RandomUnderSampler(random_state=0)\n",
    "X_train_under, y_train_under = cc.fit_resample(X_train, y_train)\n",
    "\n",
    "y_pred_under, graph = computeDecitionTree(\n",
    "    X_train_under, X_test, y_train_under)\n",
    "analyse(y_test, y_pred_under, True)\n"
   ]
  },
  {
   "cell_type": "markdown",
   "metadata": {},
   "source": [
    "#### Oversampling i undersampling - SMOTEENN"
   ]
  },
  {
   "cell_type": "code",
   "execution_count": 44,
   "metadata": {},
   "outputs": [
    {
     "data": {
      "text/plain": [
       "' from imblearn.combine import SMOTEENN\\nsmote_enn = SMOTEENN(random_state=0)\\nX_train_smoteenn, y_train_smoteenn = smote_enn.fit_resample(X_train, y_train)\\n\\ny_pred_smoteenn, graph = computeDecitionTree(\\n    X_train_smoteenn, X_test, y_train_smoteenn)\\nanalyse(y_test, y_pred_smoteenn, True) '"
      ]
     },
     "execution_count": 44,
     "metadata": {},
     "output_type": "execute_result"
    }
   ],
   "source": [
    "\"\"\" from imblearn.combine import SMOTEENN\n",
    "smote_enn = SMOTEENN(random_state=0)\n",
    "X_train_smoteenn, y_train_smoteenn = smote_enn.fit_resample(X_train, y_train)\n",
    "\n",
    "y_pred_smoteenn, graph = computeDecitionTree(\n",
    "    X_train_smoteenn, X_test, y_train_smoteenn)\n",
    "analyse(y_test, y_pred_smoteenn, True) \"\"\"\n"
   ]
  },
  {
   "cell_type": "markdown",
   "metadata": {},
   "source": [
    "#### Oversampling i undersampling - SMOTETOMEK"
   ]
  },
  {
   "cell_type": "code",
   "execution_count": 45,
   "metadata": {},
   "outputs": [
    {
     "data": {
      "text/plain": [
       "' from imblearn.combine import SMOTETomek\\nsmote_enn = SMOTETomek(random_state=0)\\nX_train_smotetomek, y_train_smotetomek = smote_enn.fit_resample(X_train, y_train)\\n\\ny_pred_smotetomek, graph = computeDecitionTree(\\n    X_train_smotetomek, X_test, y_train_smotetomek)\\nanalyse(y_test, y_pred_smotetomek, True) '"
      ]
     },
     "execution_count": 45,
     "metadata": {},
     "output_type": "execute_result"
    }
   ],
   "source": [
    "\"\"\" from imblearn.combine import SMOTETomek\n",
    "smote_enn = SMOTETomek(random_state=0)\n",
    "X_train_smotetomek, y_train_smotetomek = smote_enn.fit_resample(X_train, y_train)\n",
    "\n",
    "y_pred_smotetomek, graph = computeDecitionTree(\n",
    "    X_train_smotetomek, X_test, y_train_smotetomek)\n",
    "analyse(y_test, y_pred_smotetomek, True) \"\"\"\n"
   ]
  },
  {
   "cell_type": "markdown",
   "metadata": {},
   "source": [
    "#### Wnioski\n",
    "* Oversampling z użyciem algorytmu SMOTE - syntezy nowych próbek - obniża czułość do ok. 71% względem wariantu podstawowego\n",
    "* Oversampling z użyciem algorytmu ADASYN - syntezy nowych próbek - obniża czułość do ok. 71% względem wariantu podstawowego\n",
    "* Oversampling nie wpływa znacznie na specyficzność\n",
    "* Undersampling z użyciem klastrowania jest zbyt złożony obliczeniowo, żeby prowadzić badania z jego użyciem na tym zbiorze danych\n",
    "* Unsersampling z użyciem losowego odrzucania próbek znacząco poprawia czułość (88.5%) kosztem znaczącego spadku specyficzności (89%)\n",
    "* Kombinacje oversamplingu i undersamplingu są zbyt złożone obliczeniowo, żeby prowadzić badania z ich użyciem na tym zbiorze danych\n",
    "* Operacje resamplingu i ich skuteczność bardzo zależą od podziału danych na testowe i treningowe, szczególnie w przypapdku danych niezbalansowanych\n"
   ]
  },
  {
   "cell_type": "markdown",
   "metadata": {},
   "source": [
    "### 5. Niesymetryczne koszty błędów"
   ]
  },
  {
   "cell_type": "code",
   "execution_count": 46,
   "metadata": {},
   "outputs": [],
   "source": [
    "r = range(1, 10)\n",
    "sensitivities = []\n",
    "specificities = []\n",
    "for weight in r:\n",
    "    y_pred, graph = computeDecitionTree(\n",
    "        X_train, X_test, y_train, class_weight={0: 1, 1: weight})\n",
    "    accuracy, sensitivity, specificity = analyse(y_test, y_pred, False)\n",
    "    sensitivities.append(sensitivity)\n",
    "    specificities.append(specificity)\n"
   ]
  },
  {
   "cell_type": "code",
   "execution_count": 47,
   "metadata": {},
   "outputs": [
    {
     "data": {
      "image/png": "[encoded data removed]",
      "text/plain": [
       "<Figure size 432x288 with 1 Axes>"
      ]
     },
     "metadata": {
      "needs_background": "light"
     },
     "output_type": "display_data"
    },
    {
     "name": "stdout",
     "output_type": "stream",
     "text": [
      "max sensitivity: 0.7816091954022989, max specificity: 0.9996823099595827\n"
     ]
    }
   ],
   "source": [
    "fig, ax = plt.subplots()\n",
    "\n",
    "ax.plot(r, sensitivities, label=\"sensitivity\", **plot_style)\n",
    "ax.plot(r, specificities, label=\"specificity\", **plot_style)\n",
    "\n",
    "ax.set(xlabel='weights [1:x]', ylabel='values',\n",
    "       title='Czułość i specyficzność dla różnych stosunków wag')\n",
    "ax.grid()\n",
    "ax.legend()\n",
    "\n",
    "plt.show()\n",
    "print(\"max sensitivity: {}, max specificity: {}\".format(\n",
    "    max(sensitivities), max(specificities)))\n"
   ]
  },
  {
   "cell_type": "markdown",
   "metadata": {},
   "source": [
    "##### Wnioski\n",
    "* Manipulacja kosztem błędów pomaga nieznacznie podnieść czułość i nie zmienia specyficzności.\n",
    "* Zbyt duży stosunek wag klas (np. 0.9999999:0.0000001) może prowadzić do drastycznego zmniejszenia specyficzności.\n",
    "* W przypadku danych niezbalansowanych, bez wcześniejszej ich obróbki, duże znaczenie dla wyników ma losowy rozdział danych na testowe i treningowe."
   ]
  },
  {
   "cell_type": "markdown",
   "metadata": {},
   "source": [
    "### 6. Składanie klasyfikatorów"
   ]
  },
  {
   "cell_type": "markdown",
   "metadata": {},
   "source": [
    "##### Wariant podstawowy"
   ]
  },
  {
   "cell_type": "code",
   "execution_count": 48,
   "metadata": {},
   "outputs": [],
   "source": [
    "from sklearn.tree import DecisionTreeClassifier\n",
    "from sklearn.ensemble import AdaBoostClassifier\n",
    "\n",
    "\n",
    "r = range(1, 20, 4)\n",
    "sensitivities = []\n",
    "specificities = []\n",
    "for factor in r:\n",
    "    clf = AdaBoostClassifier(DecisionTreeClassifier(\n",
    "        max_depth=1), n_estimators=10 * factor, random_state=0)\n",
    "    clf.fit(X_train, y_train)\n",
    "    y_pred_adaboost = clf.predict(X_test)\n",
    "    accuracy, sensitivity, specificity = analyse(y_test, y_pred_adaboost, False)\n",
    "    sensitivities.append(sensitivity)\n",
    "    specificities.append(specificity)"
   ]
  },
  {
   "cell_type": "code",
   "execution_count": 49,
   "metadata": {},
   "outputs": [
    {
     "data": {
      "image/png": "[encoded data removed]",
      "text/plain": [
       "<Figure size 432x288 with 1 Axes>"
      ]
     },
     "metadata": {
      "needs_background": "light"
     },
     "output_type": "display_data"
    },
    {
     "name": "stdout",
     "output_type": "stream",
     "text": [
      "max sensitivity: 0.7241379310344828, max specificity: 0.9997882066397219\n"
     ]
    }
   ],
   "source": [
    "fig, ax = plt.subplots()\n",
    "\n",
    "ax.plot(r, sensitivities, label=\"sensitivity\", **plot_style)\n",
    "ax.plot(r, specificities, label=\"specificity\", **plot_style)\n",
    "\n",
    "ax.set(xlabel='estimators [10*x]', ylabel='values',\n",
    "       title='Czułość i specyficzność dla różnej liczby estymatorów - wariant podstawowy')\n",
    "ax.grid()\n",
    "ax.legend()\n",
    "\n",
    "plt.show()\n",
    "print(\"max sensitivity: {}, max specificity: {}\".format(\n",
    "    max(sensitivities), max(specificities)))"
   ]
  },
  {
   "cell_type": "markdown",
   "metadata": {},
   "source": [
    "##### Warianty hybrydowe"
   ]
  },
  {
   "cell_type": "code",
   "execution_count": 50,
   "metadata": {},
   "outputs": [],
   "source": [
    "from sklearn.tree import DecisionTreeClassifier\n",
    "from sklearn.ensemble import AdaBoostClassifier\n",
    "\n",
    "\n",
    "r = range(1, 40, 4)\n",
    "sensitivities = []\n",
    "specificities = []\n",
    "for factor in r:\n",
    "    clf = AdaBoostClassifier(DecisionTreeClassifier(\n",
    "        max_depth=1), n_estimators=10 * factor, random_state=0)\n",
    "    clf.fit(X_train_under, y_train_under)\n",
    "    y_pred_adaboost = clf.predict(X_test)\n",
    "    accuracy, sensitivity, specificity = analyse(y_test, y_pred_adaboost, False)\n",
    "    sensitivities.append(sensitivity)\n",
    "    specificities.append(specificity)\n"
   ]
  },
  {
   "cell_type": "code",
   "execution_count": 51,
   "metadata": {},
   "outputs": [
    {
     "data": {
      "image/png": "[encoded data removed]",
      "text/plain": [
       "<Figure size 432x288 with 1 Axes>"
      ]
     },
     "metadata": {
      "needs_background": "light"
     },
     "output_type": "display_data"
    },
    {
     "name": "stdout",
     "output_type": "stream",
     "text": [
      "max sensitivity: 0.9310344827586207, max specificity: 0.947881183924884\n"
     ]
    }
   ],
   "source": [
    "fig, ax = plt.subplots()\n",
    "\n",
    "ax.plot(r, sensitivities, label=\"sensitivity\", **plot_style)\n",
    "ax.plot(r, specificities, label=\"specificity\", **plot_style)\n",
    "\n",
    "ax.set(xlabel='estimators [10*x]', ylabel='values',\n",
    "       title='Czułość i specyficzność dla różnej liczby estymatorów - wariant hybrydowy')\n",
    "ax.grid()\n",
    "ax.legend()\n",
    "\n",
    "plt.show()\n",
    "print(\"max sensitivity: {}, max specificity: {}\".format(\n",
    "    max(sensitivities), max(specificities)))"
   ]
  },
  {
   "cell_type": "code",
   "execution_count": 52,
   "metadata": {},
   "outputs": [],
   "source": [
    "from sklearn.tree import DecisionTreeClassifier\n",
    "from sklearn.ensemble import AdaBoostClassifier\n",
    "\n",
    "\n",
    "r = range(1, 40, 4)\n",
    "sensitivities = []\n",
    "specificities = []\n",
    "for factor in r:\n",
    "    clf = AdaBoostClassifier(DecisionTreeClassifier(\n",
    "        max_depth=1, class_weight={0:1,1:factor}), n_estimators=80, random_state=0)\n",
    "    clf.fit(X_train_under, y_train_under)\n",
    "    y_pred_adaboost = clf.predict(X_test)\n",
    "    accuracy, sensitivity, specificity = analyse(y_test, y_pred_adaboost, False)\n",
    "    sensitivities.append(sensitivity)\n",
    "    specificities.append(specificity)\n"
   ]
  },
  {
   "cell_type": "code",
   "execution_count": 53,
   "metadata": {},
   "outputs": [
    {
     "data": {
      "image/png": "[encoded data removed]",
      "text/plain": [
       "<Figure size 432x288 with 1 Axes>"
      ]
     },
     "metadata": {
      "needs_background": "light"
     },
     "output_type": "display_data"
    },
    {
     "name": "stdout",
     "output_type": "stream",
     "text": [
      "max sensitivity: 0.9540229885057471, max specificity: 0.9473693499708784\n"
     ]
    }
   ],
   "source": [
    "fig, ax = plt.subplots()\n",
    "\n",
    "ax.plot(r, sensitivities, label=\"sensitivity\", **plot_style)\n",
    "ax.plot(r, specificities, label=\"specificity\", **plot_style)\n",
    "\n",
    "ax.set(xlabel='cost ratio [1:x]', ylabel='values',\n",
    "       title='Czułość i specyficzność dla stałej liczby estymatorów (80) i różnym koszcie błędu - wariant hybrydowy')\n",
    "ax.grid()\n",
    "ax.legend()\n",
    "\n",
    "plt.show()\n",
    "print(\"max sensitivity: {}, max specificity: {}\".format(\n",
    "    max(sensitivities), max(specificities)))"
   ]
  },
  {
   "cell_type": "markdown",
   "metadata": {},
   "source": [
    "#### Wnioski\n",
    "* Używając tylko składania klasyfikatorów możmy osiągnąć znaczną poprawę czułości przy zachowaniu wysokiej specyficzności\n",
    "* Czułość wzrasta wraz ze wzrostem liczby klasyfikatorów, a od pewnego momentu stabilizuje się\n",
    "* Warianty hybrydowe, stosujące pozostałe techniki, wraz ze składaniem klasyfikatorów pozwalają osiągnąć lepsze rezultaty:\n",
    "  * wraz z undersamplingiem czułość na poziomie 94% i specyficzność 93% dla 330 klasyfikatorów,\n",
    "  * wraz z undersamplingiem, stałą liczbą klasyfikatorów (80) dla różnych kosztów błędu czułość rośnie skokowo z ciągłym spadkiem specyficzności;\n",
    "* AdaBoost znacząco poprawia wyniki klasyfikatora - drzewa decyzyjnego, jednak do pełnego wykorzystania potencjału konieczna jest modyfikacja zbioru uczącego oraz parametrów klasyfikatora"
   ]
  },
  {
   "cell_type": "markdown",
   "metadata": {},
   "source": [
    "## Multi-layer Perceptron"
   ]
  },
  {
   "cell_type": "markdown",
   "metadata": {},
   "source": [
    "### 1. Wariant podstawowy"
   ]
  },
  {
   "cell_type": "code",
   "execution_count": 54,
   "metadata": {},
   "outputs": [],
   "source": [
    "from helpers import computeMLP, analyse\n",
    "y_pred = computeMLP(X_train, X_test, y_train)"
   ]
  },
  {
   "cell_type": "code",
   "execution_count": 55,
   "metadata": {},
   "outputs": [
    {
     "data": {
      "image/png": "[encoded data removed]",
      "text/plain": [
       "<Figure size 432x288 with 2 Axes>"
      ]
     },
     "metadata": {
      "needs_background": "light"
     },
     "output_type": "display_data"
    },
    {
     "name": "stdout",
     "output_type": "stream",
     "text": [
      "accuracy = 0.9995, sensitivity = 0.7701, specificity = 0.9999\n"
     ]
    }
   ],
   "source": [
    "accuracy, sensitivity, specificity = analyse(y_test,y_pred,True)"
   ]
  },
  {
   "cell_type": "markdown",
   "metadata": {},
   "source": [
    "#### Wnioski\n",
    "* wysoka dokładność nie oznacza poprawnego działania w przypadku niezbalansowanych danych\n",
    "* stosunkowo niska czułość (77%) wskazuje na duży odsetek fałszywie negatywnynch klasyfikacji"
   ]
  },
  {
   "cell_type": "markdown",
   "metadata": {},
   "source": [
    "### 2. Parametry klasyfikatora"
   ]
  },
  {
   "cell_type": "code",
   "execution_count": 56,
   "metadata": {},
   "outputs": [],
   "source": [
    "import matplotlib.pyplot as plt\n",
    "import numpy as np\n",
    "plot_style = {\"marker\": 'o', \"linestyle\": '--'}\n"
   ]
  },
  {
   "cell_type": "markdown",
   "metadata": {},
   "source": [
    "#### Liczba warstw ukrytych"
   ]
  },
  {
   "cell_type": "code",
   "execution_count": 57,
   "metadata": {},
   "outputs": [],
   "source": [
    "r = range(1, 10)\n",
    "num_layers_sensitivities = []\n",
    "num_layers_specificities = []\n",
    "for value in r:\n",
    "    y_pred = computeMLP(\n",
    "        X_train, X_test, y_train, hidden_layer_sizes=(10,)*value)\n",
    "    accuracy, sensitivity, specificity = analyse(y_test, y_pred)\n",
    "    num_layers_sensitivities.append(sensitivity)\n",
    "    num_layers_specificities.append(specificity)\n"
   ]
  },
  {
   "cell_type": "code",
   "execution_count": 58,
   "metadata": {},
   "outputs": [
    {
     "data": {
      "image/png": "[encoded data removed]",
      "text/plain": [
       "<Figure size 432x288 with 1 Axes>"
      ]
     },
     "metadata": {
      "needs_background": "light"
     },
     "output_type": "display_data"
    },
    {
     "name": "stdout",
     "output_type": "stream",
     "text": [
      "max sensitivity: 0.8275862068965517, max specificity: 0.9998058560864117\n"
     ]
    }
   ],
   "source": [
    "fig, ax = plt.subplots()\n",
    "\n",
    "ax.plot(r, num_layers_sensitivities, label=\"sensitivity\", **plot_style)\n",
    "ax.plot(r, num_layers_specificities, label=\"specificity\", **plot_style)\n",
    "\n",
    "ax.set(xlabel='liczba warstw ukrytych', ylabel='values',\n",
    "       title='Czułość i specyficzność dla różnej liczby warstw ukrytych (po 10 neuronów)')\n",
    "ax.grid()\n",
    "ax.legend()\n",
    "\n",
    "plt.show()\n",
    "print(\"max sensitivity: {}, max specificity: {}\".format(\n",
    "    max(num_layers_sensitivities), max(num_layers_specificities)))"
   ]
  },
  {
   "cell_type": "markdown",
   "metadata": {},
   "source": [
    "#### Liczba neuronów w warstwie ukrytej"
   ]
  },
  {
   "cell_type": "code",
   "execution_count": 59,
   "metadata": {},
   "outputs": [],
   "source": [
    "r = range(2, 40+1, 4)\n",
    "num_neurons_sensitivities = []\n",
    "num_neurons_specificities = []\n",
    "for value in r:\n",
    "    y_pred = computeMLP(\n",
    "        X_train, X_test, y_train, hidden_layer_sizes=(value,))\n",
    "    accuracy, sensitivity, specificity = analyse(y_test, y_pred)\n",
    "    num_neurons_sensitivities.append(sensitivity)\n",
    "    num_neurons_specificities.append(specificity)"
   ]
  },
  {
   "cell_type": "code",
   "execution_count": 60,
   "metadata": {},
   "outputs": [
    {
     "data": {
      "image/png": "[encoded data removed]",
      "text/plain": [
       "<Figure size 432x288 with 1 Axes>"
      ]
     },
     "metadata": {
      "needs_background": "light"
     },
     "output_type": "display_data"
    },
    {
     "name": "stdout",
     "output_type": "stream",
     "text": [
      "max sensitivity: 0.7586206896551724, max specificity: 0.9999470516599305\n"
     ]
    }
   ],
   "source": [
    "fig, ax = plt.subplots()\n",
    "\n",
    "ax.plot(r, num_neurons_sensitivities, label=\"sensitivity\", **plot_style)\n",
    "ax.plot(r, num_neurons_specificities, label=\"specificity\", **plot_style)\n",
    "\n",
    "ax.set(xlabel='liczba neuronów', ylabel='values',\n",
    "       title='Czułość i specyficzność dla różnej liczby neuronów w jednej warstwie ukrytej')\n",
    "ax.grid()\n",
    "ax.legend()\n",
    "\n",
    "plt.show()\n",
    "print(\"max sensitivity: {}, max specificity: {}\".format(\n",
    "    max(num_neurons_sensitivities), max(num_neurons_specificities)))"
   ]
  },
  {
   "cell_type": "markdown",
   "metadata": {},
   "source": [
    "#### Funkcja aktywacji"
   ]
  },
  {
   "cell_type": "code",
   "execution_count": 61,
   "metadata": {},
   "outputs": [],
   "source": [
    "from helpers import computeMLP, analyse\n",
    "activations = ['identity', 'logistic', 'tanh', 'relu']\n",
    "sensitivities = []\n",
    "specificities = []\n",
    "for a in activations:\n",
    "    y_pred = computeMLP(X_train, X_test, y_train, hidden_layer_sizes=(34,34), activation=a)\n",
    "    accuracy, sensitivity, specificity = analyse(y_test,y_pred, False)\n",
    "    sensitivities.append(sensitivity)\n",
    "    specificities.append(specificity)"
   ]
  },
  {
   "cell_type": "code",
   "execution_count": 62,
   "metadata": {},
   "outputs": [
    {
     "data": {
      "image/png": "[encoded data removed]",
      "text/plain": [
       "<Figure size 432x288 with 1 Axes>"
      ]
     },
     "metadata": {
      "needs_background": "light"
     },
     "output_type": "display_data"
    },
    {
     "name": "stdout",
     "output_type": "stream",
     "text": [
      "max sensitivity: 0.7931034482758621, max specificity: 0.9999647011066203\n"
     ]
    }
   ],
   "source": [
    "fig, ax = plt.subplots()\n",
    "\n",
    "x = np.arange(len(activations))\n",
    "width = 0.35\n",
    "\n",
    "ax.bar(x - width/2, sensitivities, label=\"sensitivity\",width = width)\n",
    "ax.bar(x + width/2 ,specificities, label=\"specificity\",width = width)\n",
    "\n",
    "ax.set(xlabel='funkcja aktywacji', ylabel='value', xticks=x, xticklabels=activations,\n",
    "       title='Czułość i specyficzność dla różnych funkcji aktywacji (2 warstwy, 34 neurony)')\n",
    "ax.grid()\n",
    "ax.legend()\n",
    "\n",
    "plt.show()\n",
    "print(\"max sensitivity: {}, max specificity: {}\".format(\n",
    "    max(sensitivities), max(specificities)))"
   ]
  },
  {
   "cell_type": "markdown",
   "metadata": {},
   "source": [
    "##### Wnioski\n",
    "* zdecydowanie lepsze rezyltaty daje zastosowanie większej już jedna liczby warstw ukrytych,\n",
    "* wraz ze wzrostem liczby warstw ukrytych czułość rośnie w ogólnym trendzie,\n",
    "* wraz ze wzorstem liczby neuronów w warstwie ukrytej czułość wzrasta, jednak do pewnego stopnia,\n",
    "* dla danych standaryzowanych wszystkie analizowane funkcje aktywacji dają podobne rezultaty z przewagą tangensa hiperbolicznego, a wyjątek stanowi identyczność, która wykonuje mapowanie f(x) = x\n"
   ]
  },
  {
   "cell_type": "markdown",
   "metadata": {},
   "source": [
    "### 3. Selekcja cech"
   ]
  },
  {
   "cell_type": "markdown",
   "metadata": {},
   "source": [
    "#### ANOVA"
   ]
  },
  {
   "cell_type": "code",
   "execution_count": 63,
   "metadata": {},
   "outputs": [
    {
     "data": {
      "image/png": "[encoded data removed]",
      "text/plain": [
       "<Figure size 432x288 with 2 Axes>"
      ]
     },
     "metadata": {
      "needs_background": "light"
     },
     "output_type": "display_data"
    },
    {
     "name": "stdout",
     "output_type": "stream",
     "text": [
      "accuracy = 0.9993, sensitivity = 0.7296, specificity = 0.9998\n"
     ]
    }
   ],
   "source": [
    "y_pred_anova = computeMLP(\n",
    "    X_train_anova, X_test_anova, y_train_anova, hidden_layer_sizes=(34,34))\n",
    "\n",
    "accuracy, sensitivity, specificity = analyse(y_test_anova, y_pred_anova, True)"
   ]
  },
  {
   "cell_type": "markdown",
   "metadata": {},
   "source": [
    "#### PCA"
   ]
  },
  {
   "cell_type": "code",
   "execution_count": 80,
   "metadata": {},
   "outputs": [],
   "source": [
    "from sklearn.decomposition import PCA\n",
    "r = range(5,15)\n",
    "components_sensitivities = []\n",
    "components_specificities = []\n",
    "for value in r:\n",
    "    pca = PCA(n_components=value, random_state=0)\n",
    "    pca.fit(X)\n",
    "\n",
    "    X_pca = pd.DataFrame(pca.transform(X))\n",
    "\n",
    "    X_train_pca, X_test_pca, y_train_pca, y_test_pca = train_test_split(\n",
    "        X_pca, y, random_state=0, test_size=0.2)\n",
    "\n",
    "    y_pred_pca = computeMLP(\n",
    "        X_train_pca, X_test_pca, y_train_pca, hidden_layer_sizes=(34,34))\n",
    "\n",
    "    accuracy, sensitivity, specificity = analyse(y_test_pca, y_pred_pca, False)\n",
    "    components_sensitivities.append(sensitivity)\n",
    "    components_specificities.append(specificity)\n"
   ]
  },
  {
   "cell_type": "code",
   "execution_count": 81,
   "metadata": {},
   "outputs": [
    {
     "data": {
      "image/png": "[encoded data removed]",
      "text/plain": [
       "<Figure size 432x288 with 1 Axes>"
      ]
     },
     "metadata": {
      "needs_background": "light"
     },
     "output_type": "display_data"
    },
    {
     "name": "stdout",
     "output_type": "stream",
     "text": [
      "max sensitivity: 0.4482758620689655, max specificity: 0.9999294022132407\n"
     ]
    }
   ],
   "source": [
    "fig, ax = plt.subplots()\n",
    "\n",
    "ax.plot(r, components_sensitivities, label=\"sensitivity\", **plot_style)\n",
    "ax.plot(r, components_specificities, label=\"specificity\", **plot_style)\n",
    "\n",
    "ax.set(xlabel='liczba cech', ylabel='values',\n",
    "       title='Czułość i specyficzność dla różnej liczby cech z PCA')\n",
    "ax.grid()\n",
    "ax.legend()\n",
    "\n",
    "plt.show()\n",
    "print(\"max sensitivity: {}, max specificity: {}\".format(\n",
    "    max(components_sensitivities), max(components_specificities)))"
   ]
  },
  {
   "cell_type": "markdown",
   "metadata": {},
   "source": [
    "##### Wnioski\n",
    "* selekcja cech ANOVA, biorąc do analizy te, które mają największe znaczenie dla rozróżnienia klas, w wypadku MLP nie zmienia czułości, ale skraca drastycznie czas trenowania klasyfikatora\n",
    "* selekcja cech nie zmniejsza specyficzności\n",
    "* metoda PCA kompresująca informacje czyni klasyfikator bezużytecznym, ponieważ wyniki wariantu domyślnego bazują już na zbiorze danych zanonimizowanych metodą PCA. Cechami, które mogły zmienić rzutowanie danych są cechy `amount` i `time`, które nie zostały poddane anonimizacji, a w obecnej analizie poddane są transformacji. W analizie macierzy korelacji widać, że korelacja tych cech z innymi, w przeciwieństwie do pozostałych wartości, czasem nie jest bliska zeru."
   ]
  },
  {
   "cell_type": "markdown",
   "metadata": {},
   "source": [
    "### 4. Problem niezbalansowanych klas\n",
    "Analiza bazuje na danych uzyskanych przy analizie drzewa decyzyjnego."
   ]
  },
  {
   "cell_type": "markdown",
   "metadata": {},
   "source": [
    "#### Oversampling - SMOTE"
   ]
  },
  {
   "cell_type": "code",
   "execution_count": 82,
   "metadata": {},
   "outputs": [
    {
     "data": {
      "image/png": "[encoded data removed]",
      "text/plain": [
       "<Figure size 432x288 with 2 Axes>"
      ]
     },
     "metadata": {
      "needs_background": "light"
     },
     "output_type": "display_data"
    },
    {
     "name": "stdout",
     "output_type": "stream",
     "text": [
      "accuracy = 0.9993, sensitivity = 0.8046, specificity = 0.9996\n"
     ]
    },
    {
     "data": {
      "text/plain": [
       "(0.9993479716632009, 0.8045977011494253, 0.9996470110662031)"
      ]
     },
     "execution_count": 82,
     "metadata": {},
     "output_type": "execute_result"
    }
   ],
   "source": [
    "y_pred_smote = computeMLP(\n",
    "    X_train_smote, X_test, y_train_smote, hidden_layer_sizes=(34,34))\n",
    "analyse(y_test, y_pred_smote, True)"
   ]
  },
  {
   "cell_type": "markdown",
   "metadata": {},
   "source": [
    "#### Oversampling - ADASYN"
   ]
  },
  {
   "cell_type": "code",
   "execution_count": 83,
   "metadata": {},
   "outputs": [
    {
     "data": {
      "image/png": "[encoded data removed]",
      "text/plain": [
       "<Figure size 432x288 with 2 Axes>"
      ]
     },
     "metadata": {
      "needs_background": "light"
     },
     "output_type": "display_data"
    },
    {
     "name": "stdout",
     "output_type": "stream",
     "text": [
      "accuracy = 0.9979, sensitivity = 0.8161, specificity = 0.9982\n"
     ]
    },
    {
     "data": {
      "text/plain": [
       "(0.9979029358897543, 0.8160919540229885, 0.9981821069909458)"
      ]
     },
     "execution_count": 83,
     "metadata": {},
     "output_type": "execute_result"
    }
   ],
   "source": [
    "y_pred_adasyn = computeMLP(\n",
    "    X_train_adasyn, X_test, y_train_adasyn, hidden_layer_sizes=(34,34))\n",
    "analyse(y_test, y_pred_adasyn, True)\n"
   ]
  },
  {
   "cell_type": "markdown",
   "metadata": {},
   "source": [
    "#### Undersampling - random"
   ]
  },
  {
   "cell_type": "code",
   "execution_count": 84,
   "metadata": {},
   "outputs": [
    {
     "data": {
      "image/png": "[encoded data removed]",
      "text/plain": [
       "<Figure size 432x288 with 2 Axes>"
      ]
     },
     "metadata": {
      "needs_background": "light"
     },
     "output_type": "display_data"
    },
    {
     "name": "stdout",
     "output_type": "stream",
     "text": [
      "accuracy = 0.9399, sensitivity = 0.9540, specificity = 0.9398\n"
     ]
    },
    {
     "data": {
      "text/plain": [
       "(0.9398547915271561, 0.9540229885057471, 0.939833036234314)"
      ]
     },
     "execution_count": 84,
     "metadata": {},
     "output_type": "execute_result"
    }
   ],
   "source": [
    "y_pred_under = computeMLP(\n",
    "    X_train_under, X_test, y_train_under, hidden_layer_sizes=(34,34))\n",
    "analyse(y_test, y_pred_under, True)"
   ]
  },
  {
   "cell_type": "markdown",
   "metadata": {},
   "source": [
    "##### Wnioski\n",
    "* Oversampling z użyciem algorytmu SMOTE - syntezy nowych próbek - poprawie czułość do ok. 81% względem wariantu standardowego\n",
    "* Oversampling z użyciem algorytmu ADASYN - syntezy nowych próbek - poprawie czułość do ok. 81% względem wariantu standardowego\n",
    "* Oversampling nie wpływa znacznie na specyficzność\n",
    "* Undersampling znacząco zwiększa czułość koszten specyficzności. Wyniki jednak są lepsze niż w przypadku drzewa decyzyjnego\n"
   ]
  },
  {
   "cell_type": "markdown",
   "metadata": {},
   "source": [
    "### 5. Niesymetryczne koszty błędów\n",
    "\n",
    "Klasyfikator MLP z biblioteki scikit-learn nie ma zaimplementowanej funkcjonalności wagi klas.\n",
    "Źródło: https://github.com/scikit-learn/scikit-learn/issues/9113\n",
    "\n",
    "Kosztem błędów, w przypadku klasyfikatora MLP można sterować imlicite poprzez re-sampling zbioru danych treningowych, czego analiza została wykonana w części `4. Problem niezbalanzowanych klas`."
   ]
  },
  {
   "cell_type": "markdown",
   "metadata": {},
   "source": [
    "### 6. Składanie klasyfikatorów"
   ]
  },
  {
   "cell_type": "markdown",
   "metadata": {},
   "source": [
    "##### Wariant podstawowy"
   ]
  },
  {
   "cell_type": "code",
   "execution_count": 86,
   "metadata": {},
   "outputs": [],
   "source": [
    "from sklearn.ensemble import BaggingClassifier\n",
    "from sklearn.neural_network import MLPClassifier\n",
    "from helpers import analyse\n",
    "\n",
    "r = [1,2,4,8,16,32]\n",
    "sensitivities = []\n",
    "specificities = []\n",
    "for value in r:\n",
    "    clf = BaggingClassifier(base_estimator=MLPClassifier(hidden_layer_sizes=(34,34,)),\n",
    "                            n_estimators=value, random_state=0, n_jobs=8,\n",
    "                            max_samples=0.8, max_features=0.8).fit(X_train, y_train)\n",
    "    y_pred = clf.predict(X_test);\n",
    "\n",
    "    accuracy, sensitivity, specificity = analyse(y_test, y_pred, False)\n",
    "    sensitivities.append(sensitivity)\n",
    "    specificities.append(specificity)"
   ]
  },
  {
   "cell_type": "code",
   "execution_count": 87,
   "metadata": {},
   "outputs": [
    {
     "data": {
      "image/png": "[encoded data removed]",
      "text/plain": [
       "<Figure size 432x288 with 1 Axes>"
      ]
     },
     "metadata": {
      "needs_background": "light"
     },
     "output_type": "display_data"
    },
    {
     "name": "stdout",
     "output_type": "stream",
     "text": [
      "max sensitivity: 0.7931034482758621, max specificity: 0.9999117527665508\n"
     ]
    }
   ],
   "source": [
    "fig, ax = plt.subplots()\n",
    "\n",
    "ax.plot(r, sensitivities, label=\"sensitivity\", **plot_style)\n",
    "ax.plot(r, specificities, label=\"specificity\", **plot_style)\n",
    "\n",
    "ax.set(xlabel='liczba klasyfikatorów', ylabel='values',\n",
    "       title='Czułość i specyficzność dla różnej liczby klasyfikatorów')\n",
    "ax.grid()\n",
    "ax.legend()\n",
    "\n",
    "plt.show()\n",
    "print(\"max sensitivity: {}, max specificity: {}\".format(\n",
    "    max(sensitivities), max(specificities)))"
   ]
  },
  {
   "cell_type": "markdown",
   "metadata": {},
   "source": [
    "##### Wariant hybrydowy\n",
    "Parametry klasyfikatora + undersampling + Bagging ensamble"
   ]
  },
  {
   "cell_type": "code",
   "execution_count": 95,
   "metadata": {},
   "outputs": [
    {
     "data": {
      "image/png": "[encoded data removed]",
      "text/plain": [
       "<Figure size 432x288 with 2 Axes>"
      ]
     },
     "metadata": {
      "needs_background": "light"
     },
     "output_type": "display_data"
    },
    {
     "name": "stdout",
     "output_type": "stream",
     "text": [
      "accuracy = 0.9626, sensitivity = 0.9540, specificity = 0.9626\n"
     ]
    }
   ],
   "source": [
    "from sklearn.ensemble import BaggingClassifier\n",
    "from sklearn.neural_network import MLPClassifier\n",
    "from helpers import analyse\n",
    "from sklearn.decomposition import PCA\n",
    "from imblearn.under_sampling import RandomUnderSampler\n",
    "\n",
    "\n",
    "cc = RandomUnderSampler(random_state=0)\n",
    "X_train_under, y_train_under = cc.fit_resample(X_train, y_train)\n",
    "\n",
    "clf = BaggingClassifier(base_estimator=MLPClassifier(hidden_layer_sizes=(34,34,),max_iter=500),\n",
    "                        n_estimators=100, max_samples=0.8, max_features=0.8, random_state=0, n_jobs=8).fit(X_train_under, y_train_under)\n",
    "y_pred_under = clf.predict(X_test);\n",
    "\n",
    "accuracy, sensitivity, specificity = analyse(y_test, y_pred_under, True)\n"
   ]
  },
  {
   "cell_type": "code",
   "execution_count": 94,
   "metadata": {},
   "outputs": [
    {
     "name": "stderr",
     "output_type": "stream",
     "text": [
      "/home/damian_koper/.virtualenvs/aiedLab-2Ceq4bPp/lib/python3.8/site-packages/sklearn/neural_network/_multilayer_perceptron.py:692: ConvergenceWarning: Stochastic Optimizer: Maximum iterations (500) reached and the optimization hasn't converged yet.\n",
      "  warnings.warn(\n"
     ]
    }
   ],
   "source": [
    "from sklearn.ensemble import BaggingClassifier\n",
    "from sklearn.neural_network import MLPClassifier\n",
    "from helpers import analyse\n",
    "\n",
    "r = range(2,9)\n",
    "sensitivities = []\n",
    "specificities = []\n",
    "for value in r:\n",
    "    cc = RandomUnderSampler(random_state=0)\n",
    "    X_train_under, y_train_under = cc.fit_resample(X_train, y_train)\n",
    "\n",
    "    clf = BaggingClassifier(base_estimator=MLPClassifier(hidden_layer_sizes=(6*value,3*value,),max_iter=500),\n",
    "                            n_estimators=value*10, max_samples=0.9, max_features=1.0, random_state=0, n_jobs=8).fit(X_train_under, y_train_under)\n",
    "    y_pred_under = clf.predict(X_test);\n",
    "\n",
    "    accuracy, sensitivity, specificity = analyse(y_test, y_pred_under, False)\n",
    "    sensitivities.append(sensitivity)\n",
    "    specificities.append(specificity)"
   ]
  },
  {
   "cell_type": "code",
   "execution_count": 97,
   "metadata": {},
   "outputs": [
    {
     "data": {
      "image/png": "[encoded data removed]",
      "text/plain": [
       "<Figure size 432x288 with 1 Axes>"
      ]
     },
     "metadata": {
      "needs_background": "light"
     },
     "output_type": "display_data"
    },
    {
     "name": "stdout",
     "output_type": "stream",
     "text": [
      "max sensitivity: 0.9540229885057471, max specificity: 0.960500538308124\n"
     ]
    }
   ],
   "source": [
    "fig, ax = plt.subplots()\n",
    "\n",
    "ax.plot(r, sensitivities, label=\"sensitivity\", **plot_style)\n",
    "ax.plot(r, specificities, label=\"specificity\", **plot_style)\n",
    "\n",
    "ax.set(xlabel='współczynnik liczby neuronów, współczynnik liczby klasyfikatorów', ylabel='values',\n",
    "       title='Czułość i specyficzność dla różnej liczby klasyfikatorów i rozmiaru dwóch warstw ukrytych')\n",
    "ax.grid()\n",
    "ax.legend()\n",
    "\n",
    "plt.show()\n",
    "print(\"max sensitivity: {}, max specificity: {}\".format(\n",
    "    max(sensitivities), max(specificities)))"
   ]
  },
  {
   "cell_type": "markdown",
   "metadata": {},
   "source": [
    "#### Wnioski\n",
    "* Implementacja biblioteki scikit-learn nie pozwala użyć algorytmu AdaBoost w przypadku MLP\n",
    "* Używając tylko składania klasyfikatorów możmy osiągnąć znaczną poprawę czułości przy zachowaniu wysokiej specyficzności\n",
    "* MLP nie jest tak podatne na wzrost czułości w składaniu klasyfikatorów jak drzewo decyzyjne\n",
    "* Warianty hybrydowe, stosujące pozostałe techniki, wraz ze składaniem klasyfikatorów pozwalają osiągnąć lepsze rezultaty\n",
    "* Składanie klasyfikatorów z undersamplingiem okazało się dawać taką samą czułość ale lepszą specyficzność niż sam undersampling"
   ]
  },
  {
   "cell_type": "markdown",
   "metadata": {},
   "source": [
    "## Bonus - regresja logistyczna\n",
    "Niepełna analiza jako chęć replikacji wyninków innych osób na tym samym zbiorze danych. <br>\n",
    "https://www.kaggle.com/mariapushkareva/credit-card-fraud-detection-f1-score-0-86/notebook"
   ]
  },
  {
   "cell_type": "markdown",
   "metadata": {},
   "source": [
    "### LogReg + SMOTE"
   ]
  },
  {
   "cell_type": "code",
   "execution_count": 91,
   "metadata": {},
   "outputs": [
    {
     "data": {
      "image/png": "[encoded data removed]",
      "text/plain": [
       "<Figure size 432x288 with 2 Axes>"
      ]
     },
     "metadata": {
      "needs_background": "light"
     },
     "output_type": "display_data"
    },
    {
     "name": "stdout",
     "output_type": "stream",
     "text": [
      "accuracy = 0.9726, sensitivity = 0.9540, specificity = 0.9726\n"
     ]
    }
   ],
   "source": [
    "from imblearn.over_sampling import SMOTE\n",
    "from sklearn.linear_model import LogisticRegression\n",
    "from helpers import analyse\n",
    "\n",
    "X_train_smote, y_train_smote = SMOTE(random_state=0).fit_resample(X_train, y_train)\n",
    "logreg = LogisticRegression()\n",
    "logreg.fit(X_train_smote, y_train_smote)\n",
    "y_pred_smote = logreg.predict(X_test)\n",
    "a,se,sp = analyse(y_test, y_pred_smote, True)\n"
   ]
  },
  {
   "cell_type": "markdown",
   "metadata": {},
   "source": [
    "### LogReg + Randum Undersampling"
   ]
  },
  {
   "cell_type": "code",
   "execution_count": 92,
   "metadata": {},
   "outputs": [
    {
     "data": {
      "image/png": "[encoded data removed]",
      "text/plain": [
       "<Figure size 432x288 with 2 Axes>"
      ]
     },
     "metadata": {
      "needs_background": "light"
     },
     "output_type": "display_data"
    },
    {
     "name": "stdout",
     "output_type": "stream",
     "text": [
      "accuracy = 0.9560, sensitivity = 0.9540, specificity = 0.9560\n"
     ]
    }
   ],
   "source": [
    "from sklearn.linear_model import LogisticRegression\n",
    "from imblearn.under_sampling import RandomUnderSampler\n",
    "\n",
    "cc = RandomUnderSampler(random_state=0)\n",
    "X_train_under, y_train_under = cc.fit_resample(X_train, y_train)\n",
    "logreg = LogisticRegression()\n",
    "logreg.fit(X_train_under, y_train_under)\n",
    "y_pred_under = logreg.predict(X_test)\n",
    "a,se,sp = analyse(y_test, y_pred_under, True)"
   ]
  },
  {
   "cell_type": "markdown",
   "metadata": {},
   "source": [
    "#### Wnioski\n",
    "* Regresja logistyczna w tym wypadku daje lepsze wyniki niż ten sam wariant dla drzewa decyzyjnego i MLP\n",
    "* Regresja logistyczna jest mniej złożona obliczeniowo od pozostałych klasyfikatorów"
   ]
  }
 ],
 "metadata": {
  "interpreter": {
   "hash": "916dbcbb3f70747c44a77c7bcd40155683ae19c65e1c03b4aa3499c5328201f1"
  },
  "kernelspec": {
   "display_name": "Python 3.8.10 64-bit",
   "language": "python",
   "name": "python3"
  },
  "language_info": {
   "codemirror_mode": {
    "name": "ipython",
    "version": 3
   },
   "file_extension": ".py",
   "mimetype": "text/x-python",
   "name": "python",
   "nbconvert_exporter": "python",
   "pygments_lexer": "ipython3",
   "version": "3.8.10"
  },
  "orig_nbformat": 4
 },
 "nbformat": 4,
 "nbformat_minor": 2
}
